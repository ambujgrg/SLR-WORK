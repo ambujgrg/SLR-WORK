{
 "cells": [
  {
   "cell_type": "markdown",
   "metadata": {
    "id": "5bBZ0tK6MVME"
   },
   "source": [
    "<table align=\"center\" width=100%>\n",
    "    <tr>\n",
    "        <td width=\"20%\">\n",
    "            <img src=\"homework.png\">\n",
    "        </td>\n",
    "        <td>\n",
    "            <div align=\"center\">\n",
    "                <font color=\"#21618C\" size=8px>\n",
    "                    <b> Take-Home <br>(Day 2)\n",
    "                    </b>\n",
    "                </font>\n",
    "            </div>\n",
    "        </td>\n",
    "        <td width=\"25%\">\n",
    "            <img src=\"GL-2.png\">\n",
    "        </td>\n",
    "    </tr>\n",
    "</table>"
   ]
  },
  {
   "cell_type": "markdown",
   "metadata": {
    "id": "l1JBXFFQMVMO"
   },
   "source": [
    "#### Import the required libraries"
   ]
  },
  {
   "cell_type": "code",
   "execution_count": 1,
   "metadata": {
    "id": "-suSWSPLMVMQ"
   },
   "outputs": [],
   "source": [
    "import numpy as np\n",
    "import pandas as pd\n",
    "import matplotlib.pyplot as plt\n",
    "import seaborn as sns\n",
    "import warnings\n",
    "warnings.filterwarnings('ignore')\n",
    "\n",
    "import scipy.stats as stats\n",
    "import statsmodels.formula.api as sfa"
   ]
  },
  {
   "cell_type": "code",
   "execution_count": 13,
   "metadata": {},
   "outputs": [],
   "source": [
    "from statsmodels.api import OLS, add_constant"
   ]
  },
  {
   "cell_type": "markdown",
   "metadata": {
    "id": "i59eAZjoMVMS"
   },
   "source": [
    "#### Read the data\n",
    "\n",
    "Load the csv file and print the first five observations."
   ]
  },
  {
   "cell_type": "code",
   "execution_count": 3,
   "metadata": {
    "id": "nGg7gjJfMVMT"
   },
   "outputs": [
    {
     "data": {
      "text/html": [
       "<div>\n",
       "<style scoped>\n",
       "    .dataframe tbody tr th:only-of-type {\n",
       "        vertical-align: middle;\n",
       "    }\n",
       "\n",
       "    .dataframe tbody tr th {\n",
       "        vertical-align: top;\n",
       "    }\n",
       "\n",
       "    .dataframe thead th {\n",
       "        text-align: right;\n",
       "    }\n",
       "</style>\n",
       "<table border=\"1\" class=\"dataframe\">\n",
       "  <thead>\n",
       "    <tr style=\"text-align: right;\">\n",
       "      <th></th>\n",
       "      <th>carat</th>\n",
       "      <th>cut</th>\n",
       "      <th>color</th>\n",
       "      <th>depth</th>\n",
       "      <th>table</th>\n",
       "      <th>price</th>\n",
       "      <th>x</th>\n",
       "      <th>y</th>\n",
       "      <th>z</th>\n",
       "    </tr>\n",
       "  </thead>\n",
       "  <tbody>\n",
       "    <tr>\n",
       "      <th>0</th>\n",
       "      <td>0.30</td>\n",
       "      <td>Good</td>\n",
       "      <td>F</td>\n",
       "      <td>61.1</td>\n",
       "      <td>61.0</td>\n",
       "      <td>682</td>\n",
       "      <td>4.29</td>\n",
       "      <td>4.32</td>\n",
       "      <td>2.63</td>\n",
       "    </tr>\n",
       "    <tr>\n",
       "      <th>1</th>\n",
       "      <td>0.72</td>\n",
       "      <td>Ideal</td>\n",
       "      <td>H</td>\n",
       "      <td>62.0</td>\n",
       "      <td>56.0</td>\n",
       "      <td>2443</td>\n",
       "      <td>5.80</td>\n",
       "      <td>5.74</td>\n",
       "      <td>3.58</td>\n",
       "    </tr>\n",
       "    <tr>\n",
       "      <th>2</th>\n",
       "      <td>1.71</td>\n",
       "      <td>Premium</td>\n",
       "      <td>J</td>\n",
       "      <td>62.9</td>\n",
       "      <td>58.0</td>\n",
       "      <td>8848</td>\n",
       "      <td>7.64</td>\n",
       "      <td>7.58</td>\n",
       "      <td>4.79</td>\n",
       "    </tr>\n",
       "    <tr>\n",
       "      <th>3</th>\n",
       "      <td>1.01</td>\n",
       "      <td>Premium</td>\n",
       "      <td>E</td>\n",
       "      <td>59.2</td>\n",
       "      <td>59.0</td>\n",
       "      <td>7287</td>\n",
       "      <td>6.67</td>\n",
       "      <td>6.60</td>\n",
       "      <td>3.93</td>\n",
       "    </tr>\n",
       "    <tr>\n",
       "      <th>4</th>\n",
       "      <td>0.52</td>\n",
       "      <td>Ideal</td>\n",
       "      <td>D</td>\n",
       "      <td>62.7</td>\n",
       "      <td>56.0</td>\n",
       "      <td>1720</td>\n",
       "      <td>5.17</td>\n",
       "      <td>5.14</td>\n",
       "      <td>3.23</td>\n",
       "    </tr>\n",
       "  </tbody>\n",
       "</table>\n",
       "</div>"
      ],
      "text/plain": [
       "   carat      cut color  depth  table  price     x     y     z\n",
       "0   0.30     Good     F   61.1   61.0    682  4.29  4.32  2.63\n",
       "1   0.72    Ideal     H   62.0   56.0   2443  5.80  5.74  3.58\n",
       "2   1.71  Premium     J   62.9   58.0   8848  7.64  7.58  4.79\n",
       "3   1.01  Premium     E   59.2   59.0   7287  6.67  6.60  3.93\n",
       "4   0.52    Ideal     D   62.7   56.0   1720  5.17  5.14  3.23"
      ]
     },
     "execution_count": 3,
     "metadata": {},
     "output_type": "execute_result"
    }
   ],
   "source": [
    "data = pd.read_csv('diamond_data.csv')\n",
    "data.head()"
   ]
  },
  {
   "cell_type": "markdown",
   "metadata": {
    "id": "erZnDaUeMVMU"
   },
   "source": [
    "Our objective is to predict the price of the diamond."
   ]
  },
  {
   "cell_type": "markdown",
   "metadata": {
    "id": "C-TGRgMrMVMV"
   },
   "source": [
    "**The data definition is as follows:** <br>\n",
    "\n",
    "**carat**: Weight of the diamond\n",
    "\n",
    "**cut**: Quality of the cut (Fair, Good, Very Good, Premium, Ideal)\n",
    "\n",
    "**color**: Diamond color\n",
    "\n",
    "**depth**: Total depth percentage (it is calculated as: 2 * z / (x + y))\n",
    "\n",
    "**table**: Width of top of the diamond relative to the widest point \n",
    "\n",
    "**price**: Price of a diamond in US dollars (target/dependent variable)\n",
    "\n",
    "**x**: Length of a diamond in mm\n",
    "\n",
    "**y**: Width of a diamond in mm\n",
    "\n",
    "**z**: Depth of a diamond in mm"
   ]
  },
  {
   "cell_type": "markdown",
   "metadata": {
    "id": "BgP0iVI5MVMY"
   },
   "source": [
    "### Let's begin with some hands-on practice exercises"
   ]
  },
  {
   "cell_type": "markdown",
   "metadata": {
    "id": "KgvRsVF9MVMa"
   },
   "source": [
    "<table align=\"left\">\n",
    "    <tr>\n",
    "        <td width=\"6%\">\n",
    "            <img src=\"question_icon.png\">\n",
    "        </td>\n",
    "        <td>\n",
    "            <div align=\"left\", style=\"font-size:120%\">\n",
    "                <font color=\"#21618C\">\n",
    "                    <b>1. Is the variable representing the width of a diamond skewed? If yes, apply an appropriate technique to make the distribution less skewed </b>\n",
    "                </font>\n",
    "            </div>\n",
    "        </td>\n",
    "    </tr>\n",
    "</table>"
   ]
  },
  {
   "cell_type": "code",
   "execution_count": 4,
   "metadata": {
    "id": "R4LYYwLaMVMc"
   },
   "outputs": [
    {
     "data": {
      "image/png": "[encoded data removed]",
      "text/plain": [
       "<Figure size 432x288 with 1 Axes>"
      ]
     },
     "metadata": {
      "needs_background": "light"
     },
     "output_type": "display_data"
    }
   ],
   "source": [
    "sns.distplot(data.carat)\n",
    "plt.show()"
   ]
  },
  {
   "cell_type": "code",
   "execution_count": 8,
   "metadata": {},
   "outputs": [
    {
     "data": {
      "text/plain": [
       "0.03112887846973601"
      ]
     },
     "execution_count": 8,
     "metadata": {},
     "output_type": "execute_result"
    }
   ],
   "source": [
    "stats.skew(stats.boxcox(data.carat)[0])"
   ]
  },
  {
   "cell_type": "code",
   "execution_count": 12,
   "metadata": {},
   "outputs": [
    {
     "data": {
      "image/png": "[encoded data removed]",
      "text/plain": [
       "<Figure size 432x288 with 1 Axes>"
      ]
     },
     "metadata": {
      "needs_background": "light"
     },
     "output_type": "display_data"
    }
   ],
   "source": [
    "sns.distplot(stats.boxcox(data.carat)[0])\n",
    "plt.show()"
   ]
  },
  {
   "cell_type": "markdown",
   "metadata": {
    "id": "p64kJ7FpMVMd"
   },
   "source": [
    "<table align=\"left\">\n",
    "    <tr>\n",
    "        <td width=\"6%\">\n",
    "            <img src=\"question_icon.png\">\n",
    "        </td>\n",
    "        <td>\n",
    "            <div align=\"left\", style=\"font-size:120%\">\n",
    "                <font color=\"#21618C\">\n",
    "                    <b>2. Build a full model and check whether the errors have a serial correlation or not</b>\n",
    "                </font>\n",
    "            </div>\n",
    "        </td>\n",
    "    </tr>\n",
    "</table>"
   ]
  },
  {
   "cell_type": "code",
   "execution_count": 16,
   "metadata": {
    "id": "8dgkSi9fMVMe"
   },
   "outputs": [
    {
     "data": {
      "text/plain": [
       "1.9449876107423678"
      ]
     },
     "execution_count": 16,
     "metadata": {},
     "output_type": "execute_result"
    }
   ],
   "source": [
    "# type your code here\n",
    "X = pd.get_dummies(data.drop('price',axis=1),drop_first=True)\n",
    "y = data.price\n",
    "\n",
    "model = OLS(y,X).fit()\n",
    "\n",
    "from statsmodels.stats.stattools import durbin_watson\n",
    "\n",
    "durbin_watson(model.resid)"
   ]
  },
  {
   "cell_type": "markdown",
   "metadata": {},
   "source": [
    "The errors are correlated."
   ]
  },
  {
   "cell_type": "markdown",
   "metadata": {
    "id": "7-wbNRHkMVMf"
   },
   "source": [
    "<table align=\"left\">\n",
    "    <tr>\n",
    "        <td width=\"6%\">\n",
    "            <img src=\"question_icon.png\">\n",
    "        </td>\n",
    "        <td>\n",
    "            <div align=\"left\", style=\"font-size:120%\">\n",
    "                <font color=\"#21618C\">\n",
    "                    <b>3. Add the features one-by-one to obtain the set of features which explains the price of a diamond with the highest accuracy\n",
    "                    </b>\n",
    "                </font>\n",
    "            </div>\n",
    "        </td>\n",
    "    </tr>\n",
    "</table>"
   ]
  },
  {
   "cell_type": "code",
   "execution_count": 17,
   "metadata": {
    "id": "4TibUlIyMVMg"
   },
   "outputs": [
    {
     "name": "stdout",
     "output_type": "stream",
     "text": [
      "carat \t: 5788.333242084439\n",
      "depth \t: 63.7427914926157\n",
      "table \t: 68.8072607353615\n",
      "price \t: 1.0000000000000002\n",
      "x \t: 785.0370781321518\n",
      "y \t: 784.4612133151197\n",
      "z \t: 1270.684023161377\n"
     ]
    }
   ],
   "source": [
    "for i in data.select_dtypes(include=np.number):\n",
    "    print(i,'\\t:',OLS(y,pd.DataFrame(data[i])).fit().params[0])"
   ]
  },
  {
   "cell_type": "markdown",
   "metadata": {
    "id": "1EleFG8sMVMh"
   },
   "source": [
    "<table align=\"left\">\n",
    "    <tr>\n",
    "        <td width=\"6%\">\n",
    "            <img src=\"question_icon.png\">\n",
    "        </td>\n",
    "        <td>\n",
    "            <div align=\"left\", style=\"font-size:120%\">\n",
    "                <font color=\"#21618C\">\n",
    "                    <b>4. Use the 4-fold cross validation method and compute the coefficient of determination for each model\n",
    "                    </b>\n",
    "                </font>\n",
    "            </div>\n",
    "        </td>\n",
    "    </tr>\n",
    "</table>"
   ]
  },
  {
   "cell_type": "code",
   "execution_count": 20,
   "metadata": {
    "id": "Fz9R_uZjMVMl"
   },
   "outputs": [
    {
     "name": "stdout",
     "output_type": "stream",
     "text": [
      "Model 1 R-Square : 0.883\n",
      "Model 2 R-Square : 0.896\n",
      "Model 3 R-Square : 0.885\n",
      "Model 4 R-Square : 0.893\n",
      "\n"
     ]
    }
   ],
   "source": [
    "from sklearn.model_selection import KFold\n",
    "from sklearn.metrics import r2_score\n",
    "\n",
    "kfold = KFold(n_splits=4,shuffle=True)\n",
    "k=1\n",
    "for i,j in kfold.split(X,y):\n",
    "    xtrain,xtest,ytrain,ytest = X.loc[i],X.loc[j],y.loc[i],y.loc[j]\n",
    "    print('Model %d R-Square'%k,':',round(r2_score(ytest,OLS(ytrain,xtrain).fit().predict(xtest)),3))\n",
    "    k+=1\n",
    "print()"
   ]
  },
  {
   "cell_type": "markdown",
   "metadata": {
    "id": "ZRwYSfDhMVMn"
   },
   "source": [
    "<table align=\"left\">\n",
    "    <tr>\n",
    "        <td width=\"6%\">\n",
    "            <img src=\"question_icon.png\">\n",
    "        </td>\n",
    "        <td>\n",
    "            <div align=\"left\", style=\"font-size:120%\">\n",
    "                <font color=\"#21618C\">\n",
    "                    <b>5. Identify the most insignificant numerical variable among all the numeric variables in the data\n",
    "                    </b>\n",
    "                </font>\n",
    "            </div>\n",
    "        </td>\n",
    "    </tr>\n",
    "</table>"
   ]
  },
  {
   "cell_type": "code",
   "execution_count": 21,
   "metadata": {
    "id": "GzYLK3qWMVMn"
   },
   "outputs": [
    {
     "data": {
      "text/html": [
       "<table class=\"simpletable\">\n",
       "<caption>OLS Regression Results</caption>\n",
       "<tr>\n",
       "  <th>Dep. Variable:</th>          <td>price</td>      <th>  R-squared (uncentered):</th>      <td>   0.935</td> \n",
       "</tr>\n",
       "<tr>\n",
       "  <th>Model:</th>                   <td>OLS</td>       <th>  Adj. R-squared (uncentered):</th> <td>   0.935</td> \n",
       "</tr>\n",
       "<tr>\n",
       "  <th>Method:</th>             <td>Least Squares</td>  <th>  F-statistic:       </th>          <td>   3699.</td> \n",
       "</tr>\n",
       "<tr>\n",
       "  <th>Date:</th>             <td>Sun, 05 Feb 2023</td> <th>  Prob (F-statistic):</th>           <td>  0.00</td>  \n",
       "</tr>\n",
       "<tr>\n",
       "  <th>Time:</th>                 <td>22:50:23</td>     <th>  Log-Likelihood:    </th>          <td> -13458.</td> \n",
       "</tr>\n",
       "<tr>\n",
       "  <th>No. Observations:</th>      <td>  1547</td>      <th>  AIC:               </th>          <td>2.693e+04</td>\n",
       "</tr>\n",
       "<tr>\n",
       "  <th>Df Residuals:</th>          <td>  1541</td>      <th>  BIC:               </th>          <td>2.696e+04</td>\n",
       "</tr>\n",
       "<tr>\n",
       "  <th>Df Model:</th>              <td>     6</td>      <th>                     </th>              <td> </td>    \n",
       "</tr>\n",
       "<tr>\n",
       "  <th>Covariance Type:</th>      <td>nonrobust</td>    <th>                     </th>              <td> </td>    \n",
       "</tr>\n",
       "</table>\n",
       "<table class=\"simpletable\">\n",
       "<tr>\n",
       "    <td></td>       <th>coef</th>     <th>std err</th>      <th>t</th>      <th>P>|t|</th>  <th>[0.025</th>    <th>0.975]</th>  \n",
       "</tr>\n",
       "<tr>\n",
       "  <th>carat</th> <td> 1.243e+04</td> <td>  391.534</td> <td>   31.755</td> <td> 0.000</td> <td> 1.17e+04</td> <td> 1.32e+04</td>\n",
       "</tr>\n",
       "<tr>\n",
       "  <th>depth</th> <td>  163.0790</td> <td>   19.054</td> <td>    8.559</td> <td> 0.000</td> <td>  125.705</td> <td>  200.453</td>\n",
       "</tr>\n",
       "<tr>\n",
       "  <th>table</th> <td>  -93.8462</td> <td>   17.500</td> <td>   -5.363</td> <td> 0.000</td> <td> -128.172</td> <td>  -59.520</td>\n",
       "</tr>\n",
       "<tr>\n",
       "  <th>x</th>     <td>-1514.5422</td> <td>  714.496</td> <td>   -2.120</td> <td> 0.034</td> <td>-2916.029</td> <td> -113.056</td>\n",
       "</tr>\n",
       "<tr>\n",
       "  <th>y</th>     <td> 2867.4499</td> <td>  673.751</td> <td>    4.256</td> <td> 0.000</td> <td> 1545.884</td> <td> 4189.016</td>\n",
       "</tr>\n",
       "<tr>\n",
       "  <th>z</th>     <td>-5190.6215</td> <td>  641.956</td> <td>   -8.086</td> <td> 0.000</td> <td>-6449.821</td> <td>-3931.422</td>\n",
       "</tr>\n",
       "</table>\n",
       "<table class=\"simpletable\">\n",
       "<tr>\n",
       "  <th>Omnibus:</th>       <td>531.665</td> <th>  Durbin-Watson:     </th> <td>   1.950</td>\n",
       "</tr>\n",
       "<tr>\n",
       "  <th>Prob(Omnibus):</th> <td> 0.000</td>  <th>  Jarque-Bera (JB):  </th> <td>5258.944</td>\n",
       "</tr>\n",
       "<tr>\n",
       "  <th>Skew:</th>          <td> 1.312</td>  <th>  Prob(JB):          </th> <td>    0.00</td>\n",
       "</tr>\n",
       "<tr>\n",
       "  <th>Kurtosis:</th>      <td>11.643</td>  <th>  Cond. No.          </th> <td>2.19e+03</td>\n",
       "</tr>\n",
       "</table><br/><br/>Notes:<br/>[1] R² is computed without centering (uncentered) since the model does not contain a constant.<br/>[2] Standard Errors assume that the covariance matrix of the errors is correctly specified.<br/>[3] The condition number is large, 2.19e+03. This might indicate that there are<br/>strong multicollinearity or other numerical problems."
      ],
      "text/plain": [
       "<class 'statsmodels.iolib.summary.Summary'>\n",
       "\"\"\"\n",
       "                                 OLS Regression Results                                \n",
       "=======================================================================================\n",
       "Dep. Variable:                  price   R-squared (uncentered):                   0.935\n",
       "Model:                            OLS   Adj. R-squared (uncentered):              0.935\n",
       "Method:                 Least Squares   F-statistic:                              3699.\n",
       "Date:                Sun, 05 Feb 2023   Prob (F-statistic):                        0.00\n",
       "Time:                        22:50:23   Log-Likelihood:                         -13458.\n",
       "No. Observations:                1547   AIC:                                  2.693e+04\n",
       "Df Residuals:                    1541   BIC:                                  2.696e+04\n",
       "Df Model:                           6                                                  \n",
       "Covariance Type:            nonrobust                                                  \n",
       "==============================================================================\n",
       "                 coef    std err          t      P>|t|      [0.025      0.975]\n",
       "------------------------------------------------------------------------------\n",
       "carat       1.243e+04    391.534     31.755      0.000    1.17e+04    1.32e+04\n",
       "depth        163.0790     19.054      8.559      0.000     125.705     200.453\n",
       "table        -93.8462     17.500     -5.363      0.000    -128.172     -59.520\n",
       "x          -1514.5422    714.496     -2.120      0.034   -2916.029    -113.056\n",
       "y           2867.4499    673.751      4.256      0.000    1545.884    4189.016\n",
       "z          -5190.6215    641.956     -8.086      0.000   -6449.821   -3931.422\n",
       "==============================================================================\n",
       "Omnibus:                      531.665   Durbin-Watson:                   1.950\n",
       "Prob(Omnibus):                  0.000   Jarque-Bera (JB):             5258.944\n",
       "Skew:                           1.312   Prob(JB):                         0.00\n",
       "Kurtosis:                      11.643   Cond. No.                     2.19e+03\n",
       "==============================================================================\n",
       "\n",
       "Notes:\n",
       "[1] R² is computed without centering (uncentered) since the model does not contain a constant.\n",
       "[2] Standard Errors assume that the covariance matrix of the errors is correctly specified.\n",
       "[3] The condition number is large, 2.19e+03. This might indicate that there are\n",
       "strong multicollinearity or other numerical problems.\n",
       "\"\"\""
      ]
     },
     "execution_count": 21,
     "metadata": {},
     "output_type": "execute_result"
    }
   ],
   "source": [
    "X = data.select_dtypes(include=np.number).drop('price',axis=1)\n",
    "y = data.price\n",
    "model = OLS(y,X).fit()\n",
    "model.summary()"
   ]
  },
  {
   "cell_type": "markdown",
   "metadata": {},
   "source": [
    "All the features are important."
   ]
  },
  {
   "cell_type": "markdown",
   "metadata": {
    "id": "qsLyVvDUMVMo"
   },
   "source": [
    "<table align=\"left\">\n",
    "    <tr>\n",
    "        <td width=\"6%\">\n",
    "            <img src=\"question_icon.png\">\n",
    "        </td>\n",
    "        <td>\n",
    "            <div align=\"left\", style=\"font-size:120%\">\n",
    "                <font color=\"#21618C\">\n",
    "                    <b>6. Do the residuals obtained from the full model follow a normal distribution?\n",
    "                    </b>\n",
    "                </font>\n",
    "            </div>\n",
    "        </td>\n",
    "    </tr>\n",
    "</table>"
   ]
  },
  {
   "cell_type": "code",
   "execution_count": 24,
   "metadata": {
    "id": "bD0Yuyk_MVMp"
   },
   "outputs": [
    {
     "data": {
      "text/plain": [
       "ShapiroResult(statistic=0.8434852361679077, pvalue=1.5090839207569356e-36)"
      ]
     },
     "execution_count": 24,
     "metadata": {},
     "output_type": "execute_result"
    }
   ],
   "source": [
    "X = pd.get_dummies(data.drop('price',axis=1))\n",
    "y = data.price\n",
    "model = OLS(y,X).fit()\n",
    "stats.shapiro(model.resid)"
   ]
  },
  {
   "cell_type": "code",
   "execution_count": 26,
   "metadata": {},
   "outputs": [
    {
     "data": {
      "image/png": "[encoded data removed]",
      "text/plain": [
       "<Figure size 432x288 with 1 Axes>"
      ]
     },
     "metadata": {
      "needs_background": "light"
     },
     "output_type": "display_data"
    }
   ],
   "source": [
    "stats.probplot(model.resid,plot=plt)\n",
    "plt.show()"
   ]
  },
  {
   "cell_type": "markdown",
   "metadata": {},
   "source": [
    "The data is not normal."
   ]
  },
  {
   "cell_type": "markdown",
   "metadata": {
    "id": "_i7ctdIPMVMq"
   },
   "source": [
    "<table align=\"left\">\n",
    "    <tr>\n",
    "        <td width=\"6%\">\n",
    "            <img src=\"question_icon.png\">\n",
    "        </td>\n",
    "        <td>\n",
    "            <div align=\"left\", style=\"font-size:120%\">\n",
    "                <font color=\"#21618C\">\n",
    "                    <b>7. Is it possible to make the residuals normal? If yes, do the needful\n",
    "                    </b>\n",
    "                </font>\n",
    "            </div>\n",
    "        </td>\n",
    "    </tr>\n",
    "</table>"
   ]
  },
  {
   "cell_type": "markdown",
   "metadata": {
    "id": "Q43PfUjRMVMr"
   },
   "source": [
    "By increasing the sample size we can make the residuals normal."
   ]
  },
  {
   "cell_type": "markdown",
   "metadata": {
    "id": "egjzv_W8MVMr"
   },
   "source": [
    "<table align=\"left\">\n",
    "    <tr>\n",
    "        <td width=\"6%\">\n",
    "            <img src=\"question_icon.png\">\n",
    "        </td>\n",
    "        <td>\n",
    "            <div align=\"left\", style=\"font-size:120%\">\n",
    "                <font color=\"#21618C\">\n",
    "                    <b>8. Consider the full model and remove the variables one-by-one to obtain the set of seven most significant variables\n",
    "                    </b>\n",
    "                </font>\n",
    "            </div>\n",
    "        </td>\n",
    "    </tr>\n",
    "</table>"
   ]
  },
  {
   "cell_type": "code",
   "execution_count": 28,
   "metadata": {
    "id": "oGW5geKOMVMs"
   },
   "outputs": [
    {
     "data": {
      "text/plain": [
       "('carat', 'table', 'z', 'cut_Fair', 'color_H', 'color_I', 'color_J')"
      ]
     },
     "execution_count": 28,
     "metadata": {},
     "output_type": "execute_result"
    }
   ],
   "source": [
    "from mlxtend.feature_selection import SequentialFeatureSelector\n",
    "from sklearn.linear_model import LinearRegression\n",
    "sfs = SequentialFeatureSelector(estimator=LinearRegression(),forward=True,\n",
    "                                k_features=7,scoring='neg_mean_squared_error',cv=5)\n",
    "model = sfs.fit(X,y)\n",
    "model.k_feature_names_"
   ]
  },
  {
   "cell_type": "markdown",
   "metadata": {
    "id": "6a4-bK_wMVMt"
   },
   "source": [
    "<table align=\"left\">\n",
    "    <tr>\n",
    "        <td width=\"6%\">\n",
    "            <img src=\"question_icon.png\">\n",
    "        </td>\n",
    "        <td>\n",
    "            <div align=\"left\", style=\"font-size:120%\">\n",
    "                <font color=\"#21618C\">\n",
    "                    <b>9. Identify the colors of a diamond that are not significant while predicting the price?\n",
    "                    </b>\n",
    "                </font>\n",
    "            </div>\n",
    "        </td>\n",
    "    </tr>\n",
    "</table>"
   ]
  },
  {
   "cell_type": "code",
   "execution_count": 29,
   "metadata": {
    "id": "N8he6975MVMt"
   },
   "outputs": [
    {
     "data": {
      "text/html": [
       "<table class=\"simpletable\">\n",
       "<caption>OLS Regression Results</caption>\n",
       "<tr>\n",
       "  <th>Dep. Variable:</th>          <td>price</td>      <th>  R-squared:         </th> <td>   0.893</td> \n",
       "</tr>\n",
       "<tr>\n",
       "  <th>Model:</th>                   <td>OLS</td>       <th>  Adj. R-squared:    </th> <td>   0.891</td> \n",
       "</tr>\n",
       "<tr>\n",
       "  <th>Method:</th>             <td>Least Squares</td>  <th>  F-statistic:       </th> <td>   794.4</td> \n",
       "</tr>\n",
       "<tr>\n",
       "  <th>Date:</th>             <td>Sun, 05 Feb 2023</td> <th>  Prob (F-statistic):</th>  <td>  0.00</td>  \n",
       "</tr>\n",
       "<tr>\n",
       "  <th>Time:</th>                 <td>22:53:47</td>     <th>  Log-Likelihood:    </th> <td> -13345.</td> \n",
       "</tr>\n",
       "<tr>\n",
       "  <th>No. Observations:</th>      <td>  1547</td>      <th>  AIC:               </th> <td>2.672e+04</td>\n",
       "</tr>\n",
       "<tr>\n",
       "  <th>Df Residuals:</th>          <td>  1530</td>      <th>  BIC:               </th> <td>2.681e+04</td>\n",
       "</tr>\n",
       "<tr>\n",
       "  <th>Df Model:</th>              <td>    16</td>      <th>                     </th>     <td> </td>    \n",
       "</tr>\n",
       "<tr>\n",
       "  <th>Covariance Type:</th>      <td>nonrobust</td>    <th>                     </th>     <td> </td>    \n",
       "</tr>\n",
       "</table>\n",
       "<table class=\"simpletable\">\n",
       "<tr>\n",
       "        <td></td>           <th>coef</th>     <th>std err</th>      <th>t</th>      <th>P>|t|</th>  <th>[0.025</th>    <th>0.975]</th>  \n",
       "</tr>\n",
       "<tr>\n",
       "  <th>carat</th>         <td> 1.322e+04</td> <td>  371.464</td> <td>   35.601</td> <td> 0.000</td> <td> 1.25e+04</td> <td>  1.4e+04</td>\n",
       "</tr>\n",
       "<tr>\n",
       "  <th>depth</th>         <td>  273.9828</td> <td>  131.712</td> <td>    2.080</td> <td> 0.038</td> <td>   15.627</td> <td>  532.338</td>\n",
       "</tr>\n",
       "<tr>\n",
       "  <th>table</th>         <td>  -30.3427</td> <td>   20.547</td> <td>   -1.477</td> <td> 0.140</td> <td>  -70.646</td> <td>    9.961</td>\n",
       "</tr>\n",
       "<tr>\n",
       "  <th>x</th>             <td>-1692.0142</td> <td>  899.352</td> <td>   -1.881</td> <td> 0.060</td> <td>-3456.108</td> <td>   72.080</td>\n",
       "</tr>\n",
       "<tr>\n",
       "  <th>y</th>             <td> 3092.6570</td> <td> 1044.380</td> <td>    2.961</td> <td> 0.003</td> <td> 1044.089</td> <td> 5141.226</td>\n",
       "</tr>\n",
       "<tr>\n",
       "  <th>z</th>             <td>-5599.5209</td> <td> 2150.582</td> <td>   -2.604</td> <td> 0.009</td> <td>-9817.921</td> <td>-1381.121</td>\n",
       "</tr>\n",
       "<tr>\n",
       "  <th>cut_Fair</th>      <td>-6803.1304</td> <td> 4893.000</td> <td>   -1.390</td> <td> 0.165</td> <td>-1.64e+04</td> <td> 2794.566</td>\n",
       "</tr>\n",
       "<tr>\n",
       "  <th>cut_Good</th>      <td>-6223.3501</td> <td> 4891.879</td> <td>   -1.272</td> <td> 0.204</td> <td>-1.58e+04</td> <td> 3372.148</td>\n",
       "</tr>\n",
       "<tr>\n",
       "  <th>cut_Ideal</th>     <td>-5618.7440</td> <td> 4866.139</td> <td>   -1.155</td> <td> 0.248</td> <td>-1.52e+04</td> <td> 3926.264</td>\n",
       "</tr>\n",
       "<tr>\n",
       "  <th>cut_Premium</th>   <td>-5875.4960</td> <td> 4872.529</td> <td>   -1.206</td> <td> 0.228</td> <td>-1.54e+04</td> <td> 3682.046</td>\n",
       "</tr>\n",
       "<tr>\n",
       "  <th>cut_Very Good</th> <td>-5870.0415</td> <td> 4882.097</td> <td>   -1.202</td> <td> 0.229</td> <td>-1.54e+04</td> <td> 3706.269</td>\n",
       "</tr>\n",
       "<tr>\n",
       "  <th>color_D</th>       <td>-3854.3539</td> <td> 3487.232</td> <td>   -1.105</td> <td> 0.269</td> <td>-1.07e+04</td> <td> 2985.906</td>\n",
       "</tr>\n",
       "<tr>\n",
       "  <th>color_E</th>       <td>-3852.0928</td> <td> 3485.276</td> <td>   -1.105</td> <td> 0.269</td> <td>-1.07e+04</td> <td> 2984.331</td>\n",
       "</tr>\n",
       "<tr>\n",
       "  <th>color_F</th>       <td>-3672.3257</td> <td> 3484.724</td> <td>   -1.054</td> <td> 0.292</td> <td>-1.05e+04</td> <td> 3163.014</td>\n",
       "</tr>\n",
       "<tr>\n",
       "  <th>color_G</th>       <td>-3895.2884</td> <td> 3487.732</td> <td>   -1.117</td> <td> 0.264</td> <td>-1.07e+04</td> <td> 2945.952</td>\n",
       "</tr>\n",
       "<tr>\n",
       "  <th>color_H</th>       <td>-4460.6213</td> <td> 3488.197</td> <td>   -1.279</td> <td> 0.201</td> <td>-1.13e+04</td> <td> 2381.531</td>\n",
       "</tr>\n",
       "<tr>\n",
       "  <th>color_I</th>       <td>-4871.2081</td> <td> 3487.948</td> <td>   -1.397</td> <td> 0.163</td> <td>-1.17e+04</td> <td> 1970.457</td>\n",
       "</tr>\n",
       "<tr>\n",
       "  <th>color_J</th>       <td>-5784.8718</td> <td> 3486.690</td> <td>   -1.659</td> <td> 0.097</td> <td>-1.26e+04</td> <td> 1054.325</td>\n",
       "</tr>\n",
       "</table>\n",
       "<table class=\"simpletable\">\n",
       "<tr>\n",
       "  <th>Omnibus:</th>       <td>470.401</td> <th>  Durbin-Watson:     </th> <td>   1.945</td>\n",
       "</tr>\n",
       "<tr>\n",
       "  <th>Prob(Omnibus):</th> <td> 0.000</td>  <th>  Jarque-Bera (JB):  </th> <td>5833.995</td>\n",
       "</tr>\n",
       "<tr>\n",
       "  <th>Skew:</th>          <td> 1.056</td>  <th>  Prob(JB):          </th> <td>    0.00</td>\n",
       "</tr>\n",
       "<tr>\n",
       "  <th>Kurtosis:</th>      <td>12.276</td>  <th>  Cond. No.          </th> <td>9.14e+17</td>\n",
       "</tr>\n",
       "</table><br/><br/>Notes:<br/>[1] Standard Errors assume that the covariance matrix of the errors is correctly specified.<br/>[2] The smallest eigenvalue is 1.33e-29. This might indicate that there are<br/>strong multicollinearity problems or that the design matrix is singular."
      ],
      "text/plain": [
       "<class 'statsmodels.iolib.summary.Summary'>\n",
       "\"\"\"\n",
       "                            OLS Regression Results                            \n",
       "==============================================================================\n",
       "Dep. Variable:                  price   R-squared:                       0.893\n",
       "Model:                            OLS   Adj. R-squared:                  0.891\n",
       "Method:                 Least Squares   F-statistic:                     794.4\n",
       "Date:                Sun, 05 Feb 2023   Prob (F-statistic):               0.00\n",
       "Time:                        22:53:47   Log-Likelihood:                -13345.\n",
       "No. Observations:                1547   AIC:                         2.672e+04\n",
       "Df Residuals:                    1530   BIC:                         2.681e+04\n",
       "Df Model:                          16                                         \n",
       "Covariance Type:            nonrobust                                         \n",
       "=================================================================================\n",
       "                    coef    std err          t      P>|t|      [0.025      0.975]\n",
       "---------------------------------------------------------------------------------\n",
       "carat          1.322e+04    371.464     35.601      0.000    1.25e+04     1.4e+04\n",
       "depth           273.9828    131.712      2.080      0.038      15.627     532.338\n",
       "table           -30.3427     20.547     -1.477      0.140     -70.646       9.961\n",
       "x             -1692.0142    899.352     -1.881      0.060   -3456.108      72.080\n",
       "y              3092.6570   1044.380      2.961      0.003    1044.089    5141.226\n",
       "z             -5599.5209   2150.582     -2.604      0.009   -9817.921   -1381.121\n",
       "cut_Fair      -6803.1304   4893.000     -1.390      0.165   -1.64e+04    2794.566\n",
       "cut_Good      -6223.3501   4891.879     -1.272      0.204   -1.58e+04    3372.148\n",
       "cut_Ideal     -5618.7440   4866.139     -1.155      0.248   -1.52e+04    3926.264\n",
       "cut_Premium   -5875.4960   4872.529     -1.206      0.228   -1.54e+04    3682.046\n",
       "cut_Very Good -5870.0415   4882.097     -1.202      0.229   -1.54e+04    3706.269\n",
       "color_D       -3854.3539   3487.232     -1.105      0.269   -1.07e+04    2985.906\n",
       "color_E       -3852.0928   3485.276     -1.105      0.269   -1.07e+04    2984.331\n",
       "color_F       -3672.3257   3484.724     -1.054      0.292   -1.05e+04    3163.014\n",
       "color_G       -3895.2884   3487.732     -1.117      0.264   -1.07e+04    2945.952\n",
       "color_H       -4460.6213   3488.197     -1.279      0.201   -1.13e+04    2381.531\n",
       "color_I       -4871.2081   3487.948     -1.397      0.163   -1.17e+04    1970.457\n",
       "color_J       -5784.8718   3486.690     -1.659      0.097   -1.26e+04    1054.325\n",
       "==============================================================================\n",
       "Omnibus:                      470.401   Durbin-Watson:                   1.945\n",
       "Prob(Omnibus):                  0.000   Jarque-Bera (JB):             5833.995\n",
       "Skew:                           1.056   Prob(JB):                         0.00\n",
       "Kurtosis:                      12.276   Cond. No.                     9.14e+17\n",
       "==============================================================================\n",
       "\n",
       "Notes:\n",
       "[1] Standard Errors assume that the covariance matrix of the errors is correctly specified.\n",
       "[2] The smallest eigenvalue is 1.33e-29. This might indicate that there are\n",
       "strong multicollinearity problems or that the design matrix is singular.\n",
       "\"\"\""
      ]
     },
     "execution_count": 29,
     "metadata": {},
     "output_type": "execute_result"
    }
   ],
   "source": [
    "OLS(y,X).fit().summary()"
   ]
  },
  {
   "cell_type": "markdown",
   "metadata": {
    "id": "3LrlKqmuMVMt"
   },
   "source": [
    "<table align=\"left\">\n",
    "    <tr>\n",
    "        <td width=\"6%\">\n",
    "            <img src=\"question_icon.png\">\n",
    "        </td>\n",
    "        <td>\n",
    "            <div align=\"left\", style=\"font-size:120%\">\n",
    "                <font color=\"#21618C\">\n",
    "                    <b>10. Build a regression model on the five features obtained by eliminating the features recursively \n",
    "                    </b>\n",
    "                </font>\n",
    "            </div>\n",
    "        </td>\n",
    "    </tr>\n",
    "</table>"
   ]
  },
  {
   "cell_type": "code",
   "execution_count": 30,
   "metadata": {
    "id": "EsasbD_HMVMu"
   },
   "outputs": [
    {
     "data": {
      "text/plain": [
       "0.8812864285688169"
      ]
     },
     "execution_count": 30,
     "metadata": {},
     "output_type": "execute_result"
    }
   ],
   "source": [
    "from sklearn.feature_selection import RFE\n",
    "\n",
    "rfe = RFE(estimator = LinearRegression(),n_features_to_select=5)\n",
    "\n",
    "model = rfe.fit(X,y)\n",
    "\n",
    "li = list(model.get_feature_names_out())\n",
    "\n",
    "model = LinearRegression().fit(X.loc[:,['carat', 'x', 'y', 'z', 'color_J']],y)\n",
    "r2_score(y,model.predict(X.loc[:,['carat', 'x', 'y', 'z', 'color_J']]))\n"
   ]
  },
  {
   "cell_type": "markdown",
   "metadata": {},
   "source": [
    "Model is good model."
   ]
  }
 ],
 "metadata": {
  "colab": {
   "collapsed_sections": [],
   "name": "SLR - Take home (Day 2) - Questions [v1.0 - 130420].ipynb",
   "provenance": []
  },
  "kernelspec": {
   "display_name": "Python 3 (ipykernel)",
   "language": "python",
   "name": "python3"
  },
  "language_info": {
   "codemirror_mode": {
    "name": "ipython",
    "version": 3
   },
   "file_extension": ".py",
   "mimetype": "text/x-python",
   "name": "python",
   "nbconvert_exporter": "python",
   "pygments_lexer": "ipython3",
   "version": "3.9.12"
  }
 },
 "nbformat": 4,
 "nbformat_minor": 1
}
