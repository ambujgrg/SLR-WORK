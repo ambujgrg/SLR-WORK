{
 "cells": [
  {
   "cell_type": "markdown",
   "metadata": {
    "id": "SjF_IpwILy_d"
   },
   "source": [
    "<table align=\"center\" width=100%>\n",
    "    <tr>\n",
    "        <td width=\"20%\">\n",
    "            <img src=\"homework.png\">\n",
    "        </td>\n",
    "        <td>\n",
    "            <div align=\"center\">\n",
    "                <font color=\"#21618C\" size=8px>\n",
    "                    <b> Take-Home <br>(Day 1)\n",
    "                    </b>\n",
    "                </font>\n",
    "            </div>\n",
    "        </td>\n",
    "        <td width=\"25%\">\n",
    "            <img src=\"GL-2.png\">\n",
    "        </td>\n",
    "    </tr>\n",
    "</table>"
   ]
  },
  {
   "cell_type": "markdown",
   "metadata": {
    "id": "7izMWCZ8Ly_m"
   },
   "source": [
    "### Import the required libraries"
   ]
  },
  {
   "cell_type": "code",
   "execution_count": 1,
   "metadata": {
    "id": "bQvY8TI3Ly_o"
   },
   "outputs": [],
   "source": [
    "# type your code here\n",
    "import numpy as np\n",
    "import pandas as pd\n",
    "import matplotlib.pyplot as plt\n",
    "import seaborn as sns \n",
    "import scipy.stats as stats\n",
    "import warnings\n",
    "warnings.filterwarnings('ignore')\n",
    "\n",
    "from statsmodels.api import OLS, add_constant"
   ]
  },
  {
   "cell_type": "markdown",
   "metadata": {
    "id": "bROcOBNLLy_q"
   },
   "source": [
    "#### Read the data\n",
    "\n",
    "Load the csv file and set the first column as index"
   ]
  },
  {
   "cell_type": "code",
   "execution_count": 2,
   "metadata": {
    "id": "FT00E5AOLy_r"
   },
   "outputs": [],
   "source": [
    "car = pd.read_csv('car_data.csv')"
   ]
  },
  {
   "cell_type": "code",
   "execution_count": 3,
   "metadata": {},
   "outputs": [
    {
     "data": {
      "text/html": [
       "<div>\n",
       "<style scoped>\n",
       "    .dataframe tbody tr th:only-of-type {\n",
       "        vertical-align: middle;\n",
       "    }\n",
       "\n",
       "    .dataframe tbody tr th {\n",
       "        vertical-align: top;\n",
       "    }\n",
       "\n",
       "    .dataframe thead th {\n",
       "        text-align: right;\n",
       "    }\n",
       "</style>\n",
       "<table border=\"1\" class=\"dataframe\">\n",
       "  <thead>\n",
       "    <tr style=\"text-align: right;\">\n",
       "      <th></th>\n",
       "      <th>Car_Name</th>\n",
       "      <th>Year</th>\n",
       "      <th>Selling_Price</th>\n",
       "      <th>Present_Price</th>\n",
       "      <th>Kms_Driven</th>\n",
       "      <th>Fuel_Type</th>\n",
       "      <th>Seller_Type</th>\n",
       "      <th>Transmission</th>\n",
       "      <th>Owner</th>\n",
       "    </tr>\n",
       "  </thead>\n",
       "  <tbody>\n",
       "    <tr>\n",
       "      <th>0</th>\n",
       "      <td>ritz</td>\n",
       "      <td>2014</td>\n",
       "      <td>3.35</td>\n",
       "      <td>5.59</td>\n",
       "      <td>27000</td>\n",
       "      <td>Petrol</td>\n",
       "      <td>Dealer</td>\n",
       "      <td>Manual</td>\n",
       "      <td>0</td>\n",
       "    </tr>\n",
       "    <tr>\n",
       "      <th>1</th>\n",
       "      <td>sx4</td>\n",
       "      <td>2013</td>\n",
       "      <td>4.75</td>\n",
       "      <td>9.54</td>\n",
       "      <td>43000</td>\n",
       "      <td>Diesel</td>\n",
       "      <td>Dealer</td>\n",
       "      <td>Manual</td>\n",
       "      <td>0</td>\n",
       "    </tr>\n",
       "    <tr>\n",
       "      <th>2</th>\n",
       "      <td>ciaz</td>\n",
       "      <td>2017</td>\n",
       "      <td>7.25</td>\n",
       "      <td>9.85</td>\n",
       "      <td>6900</td>\n",
       "      <td>Petrol</td>\n",
       "      <td>Dealer</td>\n",
       "      <td>Manual</td>\n",
       "      <td>0</td>\n",
       "    </tr>\n",
       "    <tr>\n",
       "      <th>3</th>\n",
       "      <td>wagon r</td>\n",
       "      <td>2011</td>\n",
       "      <td>2.85</td>\n",
       "      <td>4.15</td>\n",
       "      <td>5200</td>\n",
       "      <td>Petrol</td>\n",
       "      <td>Dealer</td>\n",
       "      <td>Manual</td>\n",
       "      <td>0</td>\n",
       "    </tr>\n",
       "    <tr>\n",
       "      <th>4</th>\n",
       "      <td>swift</td>\n",
       "      <td>2014</td>\n",
       "      <td>4.60</td>\n",
       "      <td>6.87</td>\n",
       "      <td>42450</td>\n",
       "      <td>Diesel</td>\n",
       "      <td>Dealer</td>\n",
       "      <td>Manual</td>\n",
       "      <td>0</td>\n",
       "    </tr>\n",
       "  </tbody>\n",
       "</table>\n",
       "</div>"
      ],
      "text/plain": [
       "  Car_Name  Year  Selling_Price  Present_Price  Kms_Driven Fuel_Type  \\\n",
       "0     ritz  2014           3.35           5.59       27000    Petrol   \n",
       "1      sx4  2013           4.75           9.54       43000    Diesel   \n",
       "2     ciaz  2017           7.25           9.85        6900    Petrol   \n",
       "3  wagon r  2011           2.85           4.15        5200    Petrol   \n",
       "4    swift  2014           4.60           6.87       42450    Diesel   \n",
       "\n",
       "  Seller_Type Transmission  Owner  \n",
       "0      Dealer       Manual      0  \n",
       "1      Dealer       Manual      0  \n",
       "2      Dealer       Manual      0  \n",
       "3      Dealer       Manual      0  \n",
       "4      Dealer       Manual      0  "
      ]
     },
     "execution_count": 3,
     "metadata": {},
     "output_type": "execute_result"
    }
   ],
   "source": [
    "car.head()"
   ]
  },
  {
   "cell_type": "markdown",
   "metadata": {
    "id": "WXmNu0_bLy_s"
   },
   "source": [
    "Our objective is to predict the selling price of the cars data."
   ]
  },
  {
   "cell_type": "markdown",
   "metadata": {
    "id": "tSA5eYj-Ly_t"
   },
   "source": [
    "**The data definition is as follows:** <br><br>\n",
    "**Car_Name:** name of the car <br>\n",
    "\n",
    "**YearThis:** year in which the car was bought <br>\n",
    "\n",
    "**Present_Price:** current ex-showroom price of the car (in lakhs)<br>\n",
    "\n",
    "**Kms_Driven:** distance completed by the car in km <br>\n",
    "\n",
    "**Fuel_Type:** fuel type of the car <br>\n",
    "\n",
    "**Seller_Type:** defines whether the seller is a dealer or an individual<br>\n",
    "\n",
    "**Transmission:** defines whether the car is manual or automatic <br>\n",
    "\n",
    "**Owner:** defines the number of owners the car has previously had <br>\n",
    "\n",
    "**Selling_Price:** price the owner wants to sell the car at (in lakhs) (response variable)"
   ]
  },
  {
   "cell_type": "code",
   "execution_count": 4,
   "metadata": {},
   "outputs": [
    {
     "name": "stdout",
     "output_type": "stream",
     "text": [
      "<class 'pandas.core.frame.DataFrame'>\n",
      "RangeIndex: 301 entries, 0 to 300\n",
      "Data columns (total 9 columns):\n",
      " #   Column         Non-Null Count  Dtype  \n",
      "---  ------         --------------  -----  \n",
      " 0   Car_Name       301 non-null    object \n",
      " 1   Year           301 non-null    int64  \n",
      " 2   Selling_Price  301 non-null    float64\n",
      " 3   Present_Price  301 non-null    float64\n",
      " 4   Kms_Driven     301 non-null    int64  \n",
      " 5   Fuel_Type      301 non-null    object \n",
      " 6   Seller_Type    301 non-null    object \n",
      " 7   Transmission   301 non-null    object \n",
      " 8   Owner          301 non-null    int64  \n",
      "dtypes: float64(2), int64(3), object(4)\n",
      "memory usage: 21.3+ KB\n"
     ]
    }
   ],
   "source": [
    "car.info()"
   ]
  },
  {
   "cell_type": "code",
   "execution_count": 5,
   "metadata": {},
   "outputs": [],
   "source": [
    "car.drop('Car_Name',axis = 1, inplace = True)"
   ]
  },
  {
   "cell_type": "code",
   "execution_count": 6,
   "metadata": {},
   "outputs": [],
   "source": [
    "df = pd.get_dummies(car,drop_first=True)"
   ]
  },
  {
   "cell_type": "markdown",
   "metadata": {
    "id": "2CohhqNxLy_x"
   },
   "source": [
    "### Let's begin with some hands-on practice exercises"
   ]
  },
  {
   "cell_type": "markdown",
   "metadata": {
    "id": "zJa2PL_KLy_1"
   },
   "source": [
    "<table align=\"left\">\n",
    "    <tr>\n",
    "        <td width=\"6%\">\n",
    "            <img src=\"question_icon.png\">\n",
    "        </td>\n",
    "        <td>\n",
    "            <div align=\"left\", style=\"font-size:120%\">\n",
    "                <font color=\"#21618C\">\n",
    "                    <b>1. Build a full model and interpret the beta coefficients </b>\n",
    "                </font>\n",
    "            </div>\n",
    "        </td>\n",
    "    </tr>\n",
    "</table>"
   ]
  },
  {
   "cell_type": "markdown",
   "metadata": {
    "id": "1Ttmu9n5Ly_3"
   },
   "source": [
    "        Hint: A full model is a model which includes all the features "
   ]
  },
  {
   "cell_type": "code",
   "execution_count": 8,
   "metadata": {
    "id": "3cQ_rIT1Ly_5"
   },
   "outputs": [],
   "source": [
    "df= add_constant(df)"
   ]
  },
  {
   "cell_type": "code",
   "execution_count": 9,
   "metadata": {},
   "outputs": [
    {
     "data": {
      "text/html": [
       "<table class=\"simpletable\">\n",
       "<caption>OLS Regression Results</caption>\n",
       "<tr>\n",
       "  <th>Dep. Variable:</th>      <td>Selling_Price</td>  <th>  R-squared:         </th> <td>   0.883</td> \n",
       "</tr>\n",
       "<tr>\n",
       "  <th>Model:</th>                   <td>OLS</td>       <th>  Adj. R-squared:    </th> <td>   0.879</td> \n",
       "</tr>\n",
       "<tr>\n",
       "  <th>Method:</th>             <td>Least Squares</td>  <th>  F-statistic:       </th> <td>   274.3</td> \n",
       "</tr>\n",
       "<tr>\n",
       "  <th>Date:</th>             <td>Sat, 04 Feb 2023</td> <th>  Prob (F-statistic):</th> <td>5.71e-131</td>\n",
       "</tr>\n",
       "<tr>\n",
       "  <th>Time:</th>                 <td>19:30:31</td>     <th>  Log-Likelihood:    </th> <td> -593.62</td> \n",
       "</tr>\n",
       "<tr>\n",
       "  <th>No. Observations:</th>      <td>   301</td>      <th>  AIC:               </th> <td>   1205.</td> \n",
       "</tr>\n",
       "<tr>\n",
       "  <th>Df Residuals:</th>          <td>   292</td>      <th>  BIC:               </th> <td>   1239.</td> \n",
       "</tr>\n",
       "<tr>\n",
       "  <th>Df Model:</th>              <td>     8</td>      <th>                     </th>     <td> </td>    \n",
       "</tr>\n",
       "<tr>\n",
       "  <th>Covariance Type:</th>      <td>nonrobust</td>    <th>                     </th>     <td> </td>    \n",
       "</tr>\n",
       "</table>\n",
       "<table class=\"simpletable\">\n",
       "<tr>\n",
       "             <td></td>               <th>coef</th>     <th>std err</th>      <th>t</th>      <th>P>|t|</th>  <th>[0.025</th>    <th>0.975]</th>  \n",
       "</tr>\n",
       "<tr>\n",
       "  <th>const</th>                  <td> -789.2366</td> <td>   86.522</td> <td>   -9.122</td> <td> 0.000</td> <td> -959.522</td> <td> -618.951</td>\n",
       "</tr>\n",
       "<tr>\n",
       "  <th>Year</th>                   <td>    0.3931</td> <td>    0.043</td> <td>    9.159</td> <td> 0.000</td> <td>    0.309</td> <td>    0.478</td>\n",
       "</tr>\n",
       "<tr>\n",
       "  <th>Present_Price</th>          <td>    0.4372</td> <td>    0.016</td> <td>   27.355</td> <td> 0.000</td> <td>    0.406</td> <td>    0.469</td>\n",
       "</tr>\n",
       "<tr>\n",
       "  <th>Kms_Driven</th>             <td>-7.013e-06</td> <td> 3.23e-06</td> <td>   -2.172</td> <td> 0.031</td> <td>-1.34e-05</td> <td>-6.57e-07</td>\n",
       "</tr>\n",
       "<tr>\n",
       "  <th>Owner</th>                  <td>   -0.6742</td> <td>    0.423</td> <td>   -1.595</td> <td> 0.112</td> <td>   -1.506</td> <td>    0.158</td>\n",
       "</tr>\n",
       "<tr>\n",
       "  <th>Fuel_Type_Diesel</th>       <td>    2.4699</td> <td>    1.278</td> <td>    1.932</td> <td> 0.054</td> <td>   -0.046</td> <td>    4.986</td>\n",
       "</tr>\n",
       "<tr>\n",
       "  <th>Fuel_Type_Petrol</th>       <td>    0.6077</td> <td>    1.259</td> <td>    0.483</td> <td> 0.630</td> <td>   -1.870</td> <td>    3.085</td>\n",
       "</tr>\n",
       "<tr>\n",
       "  <th>Seller_Type_Individual</th> <td>   -1.1213</td> <td>    0.257</td> <td>   -4.371</td> <td> 0.000</td> <td>   -1.626</td> <td>   -0.616</td>\n",
       "</tr>\n",
       "<tr>\n",
       "  <th>Transmission_Manual</th>    <td>   -1.4482</td> <td>    0.328</td> <td>   -4.417</td> <td> 0.000</td> <td>   -2.093</td> <td>   -0.803</td>\n",
       "</tr>\n",
       "</table>\n",
       "<table class=\"simpletable\">\n",
       "<tr>\n",
       "  <th>Omnibus:</th>       <td>95.107</td> <th>  Durbin-Watson:     </th> <td>   1.795</td> \n",
       "</tr>\n",
       "<tr>\n",
       "  <th>Prob(Omnibus):</th> <td> 0.000</td> <th>  Jarque-Bera (JB):  </th> <td> 696.392</td> \n",
       "</tr>\n",
       "<tr>\n",
       "  <th>Skew:</th>          <td> 1.075</td> <th>  Prob(JB):          </th> <td>6.03e-152</td>\n",
       "</tr>\n",
       "<tr>\n",
       "  <th>Kurtosis:</th>      <td>10.135</td> <th>  Cond. No.          </th> <td>4.56e+07</td> \n",
       "</tr>\n",
       "</table><br/><br/>Notes:<br/>[1] Standard Errors assume that the covariance matrix of the errors is correctly specified.<br/>[2] The condition number is large, 4.56e+07. This might indicate that there are<br/>strong multicollinearity or other numerical problems."
      ],
      "text/plain": [
       "<class 'statsmodels.iolib.summary.Summary'>\n",
       "\"\"\"\n",
       "                            OLS Regression Results                            \n",
       "==============================================================================\n",
       "Dep. Variable:          Selling_Price   R-squared:                       0.883\n",
       "Model:                            OLS   Adj. R-squared:                  0.879\n",
       "Method:                 Least Squares   F-statistic:                     274.3\n",
       "Date:                Sat, 04 Feb 2023   Prob (F-statistic):          5.71e-131\n",
       "Time:                        19:30:31   Log-Likelihood:                -593.62\n",
       "No. Observations:                 301   AIC:                             1205.\n",
       "Df Residuals:                     292   BIC:                             1239.\n",
       "Df Model:                           8                                         \n",
       "Covariance Type:            nonrobust                                         \n",
       "==========================================================================================\n",
       "                             coef    std err          t      P>|t|      [0.025      0.975]\n",
       "------------------------------------------------------------------------------------------\n",
       "const                   -789.2366     86.522     -9.122      0.000    -959.522    -618.951\n",
       "Year                       0.3931      0.043      9.159      0.000       0.309       0.478\n",
       "Present_Price              0.4372      0.016     27.355      0.000       0.406       0.469\n",
       "Kms_Driven             -7.013e-06   3.23e-06     -2.172      0.031   -1.34e-05   -6.57e-07\n",
       "Owner                     -0.6742      0.423     -1.595      0.112      -1.506       0.158\n",
       "Fuel_Type_Diesel           2.4699      1.278      1.932      0.054      -0.046       4.986\n",
       "Fuel_Type_Petrol           0.6077      1.259      0.483      0.630      -1.870       3.085\n",
       "Seller_Type_Individual    -1.1213      0.257     -4.371      0.000      -1.626      -0.616\n",
       "Transmission_Manual       -1.4482      0.328     -4.417      0.000      -2.093      -0.803\n",
       "==============================================================================\n",
       "Omnibus:                       95.107   Durbin-Watson:                   1.795\n",
       "Prob(Omnibus):                  0.000   Jarque-Bera (JB):              696.392\n",
       "Skew:                           1.075   Prob(JB):                    6.03e-152\n",
       "Kurtosis:                      10.135   Cond. No.                     4.56e+07\n",
       "==============================================================================\n",
       "\n",
       "Notes:\n",
       "[1] Standard Errors assume that the covariance matrix of the errors is correctly specified.\n",
       "[2] The condition number is large, 4.56e+07. This might indicate that there are\n",
       "strong multicollinearity or other numerical problems.\n",
       "\"\"\""
      ]
     },
     "execution_count": 9,
     "metadata": {},
     "output_type": "execute_result"
    }
   ],
   "source": [
    "x= df.drop('Selling_Price', axis =1)\n",
    "y = df.Selling_Price\n",
    "\n",
    "model = OLS(y,x).fit()\n",
    "model.summary()"
   ]
  },
  {
   "cell_type": "markdown",
   "metadata": {
    "id": "DncmS_bMLy_6"
   },
   "source": [
    "<table align=\"left\">\n",
    "    <tr>\n",
    "        <td width=\"6%\">\n",
    "            <img src=\"question_icon.png\">\n",
    "        </td>\n",
    "        <td>\n",
    "            <div align=\"left\", style=\"font-size:120%\">\n",
    "                <font color=\"#21618C\">\n",
    "                    <b>2. Is there multicollinearity present? If yes, which variables are involved in multicollinearity?    </b>\n",
    "                </font>\n",
    "            </div>\n",
    "        </td>\n",
    "    </tr>\n",
    "</table>"
   ]
  },
  {
   "cell_type": "markdown",
   "metadata": {
    "id": "4t4gyAC1Ly_7"
   },
   "source": [
    "Yes, there is multicollinearity present in the model."
   ]
  },
  {
   "cell_type": "code",
   "execution_count": 10,
   "metadata": {},
   "outputs": [
    {
     "data": {
      "text/html": [
       "<div>\n",
       "<style scoped>\n",
       "    .dataframe tbody tr th:only-of-type {\n",
       "        vertical-align: middle;\n",
       "    }\n",
       "\n",
       "    .dataframe tbody tr th {\n",
       "        vertical-align: top;\n",
       "    }\n",
       "\n",
       "    .dataframe thead th {\n",
       "        text-align: right;\n",
       "    }\n",
       "</style>\n",
       "<table border=\"1\" class=\"dataframe\">\n",
       "  <thead>\n",
       "    <tr style=\"text-align: right;\">\n",
       "      <th></th>\n",
       "      <th>column</th>\n",
       "      <th>VIF</th>\n",
       "    </tr>\n",
       "  </thead>\n",
       "  <tbody>\n",
       "    <tr>\n",
       "      <th>0</th>\n",
       "      <td>const</td>\n",
       "      <td>722952.649528</td>\n",
       "    </tr>\n",
       "    <tr>\n",
       "      <th>1</th>\n",
       "      <td>Year</td>\n",
       "      <td>1.482347</td>\n",
       "    </tr>\n",
       "    <tr>\n",
       "      <th>2</th>\n",
       "      <td>Present_Price</td>\n",
       "      <td>1.836927</td>\n",
       "    </tr>\n",
       "    <tr>\n",
       "      <th>3</th>\n",
       "      <td>Kms_Driven</td>\n",
       "      <td>1.517916</td>\n",
       "    </tr>\n",
       "    <tr>\n",
       "      <th>4</th>\n",
       "      <td>Owner</td>\n",
       "      <td>1.056734</td>\n",
       "    </tr>\n",
       "    <tr>\n",
       "      <th>5</th>\n",
       "      <td>Fuel_Type_Diesel</td>\n",
       "      <td>25.182719</td>\n",
       "    </tr>\n",
       "    <tr>\n",
       "      <th>6</th>\n",
       "      <td>Fuel_Type_Petrol</td>\n",
       "      <td>25.026007</td>\n",
       "    </tr>\n",
       "    <tr>\n",
       "      <th>7</th>\n",
       "      <td>Seller_Type_Individual</td>\n",
       "      <td>1.449644</td>\n",
       "    </tr>\n",
       "    <tr>\n",
       "      <th>8</th>\n",
       "      <td>Transmission_Manual</td>\n",
       "      <td>1.196263</td>\n",
       "    </tr>\n",
       "  </tbody>\n",
       "</table>\n",
       "</div>"
      ],
      "text/plain": [
       "                   column            VIF\n",
       "0                   const  722952.649528\n",
       "1                    Year       1.482347\n",
       "2           Present_Price       1.836927\n",
       "3              Kms_Driven       1.517916\n",
       "4                   Owner       1.056734\n",
       "5        Fuel_Type_Diesel      25.182719\n",
       "6        Fuel_Type_Petrol      25.026007\n",
       "7  Seller_Type_Individual       1.449644\n",
       "8     Transmission_Manual       1.196263"
      ]
     },
     "execution_count": 10,
     "metadata": {},
     "output_type": "execute_result"
    }
   ],
   "source": [
    "from statsmodels.stats.outliers_influence import variance_inflation_factor\n",
    "\n",
    "mylist= []\n",
    "\n",
    "for i in range(x.shape[1]):\n",
    "    mylist.append(variance_inflation_factor(x.values,i))\n",
    "    \n",
    "pd.DataFrame({'column':x.columns,'VIF':mylist})"
   ]
  },
  {
   "cell_type": "markdown",
   "metadata": {},
   "source": [
    "Fuel_Type has the high effect of multicollinearity in the model."
   ]
  },
  {
   "cell_type": "markdown",
   "metadata": {
    "id": "qDv_UrNMLy_8"
   },
   "source": [
    "<table align=\"left\">\n",
    "    <tr>\n",
    "        <td width=\"6%\">\n",
    "            <img src=\"question_icon.png\">\n",
    "        </td>\n",
    "        <td>\n",
    "            <div align=\"left\", style=\"font-size:120%\">\n",
    "                <font color=\"#21618C\">\n",
    "                    <b>3. What is the impact of present price of the car and seller type on the selling price?\n",
    "                    </b>\n",
    "                </font>\n",
    "            </div>\n",
    "        </td>\n",
    "    </tr>\n",
    "</table>"
   ]
  },
  {
   "cell_type": "code",
   "execution_count": 11,
   "metadata": {
    "id": "s7vHfbFpLy__"
   },
   "outputs": [],
   "source": [
    "data = car.iloc[:,[0,2,3,6]]"
   ]
  },
  {
   "cell_type": "code",
   "execution_count": 12,
   "metadata": {},
   "outputs": [
    {
     "data": {
      "text/html": [
       "<table class=\"simpletable\">\n",
       "<caption>OLS Regression Results</caption>\n",
       "<tr>\n",
       "  <th>Dep. Variable:</th>      <td>Selling_Price</td>  <th>  R-squared:         </th> <td>   0.786</td> \n",
       "</tr>\n",
       "<tr>\n",
       "  <th>Model:</th>                   <td>OLS</td>       <th>  Adj. R-squared:    </th> <td>   0.785</td> \n",
       "</tr>\n",
       "<tr>\n",
       "  <th>Method:</th>             <td>Least Squares</td>  <th>  F-statistic:       </th> <td>   548.4</td> \n",
       "</tr>\n",
       "<tr>\n",
       "  <th>Date:</th>             <td>Sat, 04 Feb 2023</td> <th>  Prob (F-statistic):</th> <td>1.34e-100</td>\n",
       "</tr>\n",
       "<tr>\n",
       "  <th>Time:</th>                 <td>19:31:58</td>     <th>  Log-Likelihood:    </th> <td> -683.71</td> \n",
       "</tr>\n",
       "<tr>\n",
       "  <th>No. Observations:</th>      <td>   301</td>      <th>  AIC:               </th> <td>   1373.</td> \n",
       "</tr>\n",
       "<tr>\n",
       "  <th>Df Residuals:</th>          <td>   298</td>      <th>  BIC:               </th> <td>   1385.</td> \n",
       "</tr>\n",
       "<tr>\n",
       "  <th>Df Model:</th>              <td>     2</td>      <th>                     </th>     <td> </td>    \n",
       "</tr>\n",
       "<tr>\n",
       "  <th>Covariance Type:</th>      <td>nonrobust</td>    <th>                     </th>     <td> </td>    \n",
       "</tr>\n",
       "</table>\n",
       "<table class=\"simpletable\">\n",
       "<tr>\n",
       "             <td></td>               <th>coef</th>     <th>std err</th>      <th>t</th>      <th>P>|t|</th>  <th>[0.025</th>    <th>0.975]</th>  \n",
       "</tr>\n",
       "<tr>\n",
       "  <th>const</th>                  <td>    1.5423</td> <td>    0.261</td> <td>    5.901</td> <td> 0.000</td> <td>    1.028</td> <td>    2.057</td>\n",
       "</tr>\n",
       "<tr>\n",
       "  <th>Present_Price</th>          <td>    0.4758</td> <td>    0.018</td> <td>   25.956</td> <td> 0.000</td> <td>    0.440</td> <td>    0.512</td>\n",
       "</tr>\n",
       "<tr>\n",
       "  <th>Seller_Type_Individual</th> <td>   -1.4493</td> <td>    0.331</td> <td>   -4.376</td> <td> 0.000</td> <td>   -2.101</td> <td>   -0.798</td>\n",
       "</tr>\n",
       "</table>\n",
       "<table class=\"simpletable\">\n",
       "<tr>\n",
       "  <th>Omnibus:</th>       <td>72.895</td> <th>  Durbin-Watson:     </th> <td>   1.645</td> \n",
       "</tr>\n",
       "<tr>\n",
       "  <th>Prob(Omnibus):</th> <td> 0.000</td> <th>  Jarque-Bera (JB):  </th> <td> 845.311</td> \n",
       "</tr>\n",
       "<tr>\n",
       "  <th>Skew:</th>          <td> 0.581</td> <th>  Prob(JB):          </th> <td>2.77e-184</td>\n",
       "</tr>\n",
       "<tr>\n",
       "  <th>Kurtosis:</th>      <td>11.127</td> <th>  Cond. No.          </th> <td>    33.4</td> \n",
       "</tr>\n",
       "</table><br/><br/>Notes:<br/>[1] Standard Errors assume that the covariance matrix of the errors is correctly specified."
      ],
      "text/plain": [
       "<class 'statsmodels.iolib.summary.Summary'>\n",
       "\"\"\"\n",
       "                            OLS Regression Results                            \n",
       "==============================================================================\n",
       "Dep. Variable:          Selling_Price   R-squared:                       0.786\n",
       "Model:                            OLS   Adj. R-squared:                  0.785\n",
       "Method:                 Least Squares   F-statistic:                     548.4\n",
       "Date:                Sat, 04 Feb 2023   Prob (F-statistic):          1.34e-100\n",
       "Time:                        19:31:58   Log-Likelihood:                -683.71\n",
       "No. Observations:                 301   AIC:                             1373.\n",
       "Df Residuals:                     298   BIC:                             1385.\n",
       "Df Model:                           2                                         \n",
       "Covariance Type:            nonrobust                                         \n",
       "==========================================================================================\n",
       "                             coef    std err          t      P>|t|      [0.025      0.975]\n",
       "------------------------------------------------------------------------------------------\n",
       "const                      1.5423      0.261      5.901      0.000       1.028       2.057\n",
       "Present_Price              0.4758      0.018     25.956      0.000       0.440       0.512\n",
       "Seller_Type_Individual    -1.4493      0.331     -4.376      0.000      -2.101      -0.798\n",
       "==============================================================================\n",
       "Omnibus:                       72.895   Durbin-Watson:                   1.645\n",
       "Prob(Omnibus):                  0.000   Jarque-Bera (JB):              845.311\n",
       "Skew:                           0.581   Prob(JB):                    2.77e-184\n",
       "Kurtosis:                      11.127   Cond. No.                         33.4\n",
       "==============================================================================\n",
       "\n",
       "Notes:\n",
       "[1] Standard Errors assume that the covariance matrix of the errors is correctly specified.\n",
       "\"\"\""
      ]
     },
     "execution_count": 12,
     "metadata": {},
     "output_type": "execute_result"
    }
   ],
   "source": [
    "data = pd.get_dummies(data, drop_first=True)\n",
    "x = data.drop('Selling_Price', axis = 1)\n",
    "y = data.Selling_Price\n",
    "\n",
    "model = OLS(y,x).fit()\n",
    "model.summary()"
   ]
  },
  {
   "cell_type": "markdown",
   "metadata": {},
   "source": [
    "Yes, both the features have effect on the selling price"
   ]
  },
  {
   "cell_type": "markdown",
   "metadata": {
    "id": "HGX16a8QLzAA"
   },
   "source": [
    "<table align=\"left\">\n",
    "    <tr>\n",
    "        <td width=\"6%\">\n",
    "            <img src=\"question_icon.png\">\n",
    "        </td>\n",
    "        <td>\n",
    "            <div align=\"left\", style=\"font-size:120%\">\n",
    "                <font color=\"#21618C\">\n",
    "                    <b>4. Consider all the numeric features in the data. Do all of them significantly contribute to explaining the variation in the selling price?\n",
    "                    </b>\n",
    "                </font>\n",
    "            </div>\n",
    "        </td>\n",
    "    </tr>\n",
    "</table>"
   ]
  },
  {
   "cell_type": "code",
   "execution_count": 24,
   "metadata": {
    "id": "ktKfSnRkLzAC"
   },
   "outputs": [
    {
     "data": {
      "text/html": [
       "<table class=\"simpletable\">\n",
       "<caption>OLS Regression Results</caption>\n",
       "<tr>\n",
       "  <th>Dep. Variable:</th>      <td>Selling_Price</td>  <th>  R-squared:         </th> <td>   0.852</td> \n",
       "</tr>\n",
       "<tr>\n",
       "  <th>Model:</th>                   <td>OLS</td>       <th>  Adj. R-squared:    </th> <td>   0.850</td> \n",
       "</tr>\n",
       "<tr>\n",
       "  <th>Method:</th>             <td>Least Squares</td>  <th>  F-statistic:       </th> <td>   426.6</td> \n",
       "</tr>\n",
       "<tr>\n",
       "  <th>Date:</th>             <td>Sat, 04 Feb 2023</td> <th>  Prob (F-statistic):</th> <td>1.66e-121</td>\n",
       "</tr>\n",
       "<tr>\n",
       "  <th>Time:</th>                 <td>19:46:52</td>     <th>  Log-Likelihood:    </th> <td> -628.25</td> \n",
       "</tr>\n",
       "<tr>\n",
       "  <th>No. Observations:</th>      <td>   301</td>      <th>  AIC:               </th> <td>   1267.</td> \n",
       "</tr>\n",
       "<tr>\n",
       "  <th>Df Residuals:</th>          <td>   296</td>      <th>  BIC:               </th> <td>   1285.</td> \n",
       "</tr>\n",
       "<tr>\n",
       "  <th>Df Model:</th>              <td>     4</td>      <th>                     </th>     <td> </td>    \n",
       "</tr>\n",
       "<tr>\n",
       "  <th>Covariance Type:</th>      <td>nonrobust</td>    <th>                     </th>     <td> </td>    \n",
       "</tr>\n",
       "</table>\n",
       "<table class=\"simpletable\">\n",
       "<tr>\n",
       "        <td></td>           <th>coef</th>     <th>std err</th>      <th>t</th>      <th>P>|t|</th>  <th>[0.025</th>    <th>0.975]</th>  \n",
       "</tr>\n",
       "<tr>\n",
       "  <th>const</th>         <td> -937.7642</td> <td>   94.392</td> <td>   -9.935</td> <td> 0.000</td> <td>-1123.528</td> <td> -752.000</td>\n",
       "</tr>\n",
       "<tr>\n",
       "  <th>Year</th>          <td>    0.4661</td> <td>    0.047</td> <td>    9.949</td> <td> 0.000</td> <td>    0.374</td> <td>    0.558</td>\n",
       "</tr>\n",
       "<tr>\n",
       "  <th>Present_Price</th> <td>    0.5256</td> <td>    0.013</td> <td>   39.067</td> <td> 0.000</td> <td>    0.499</td> <td>    0.552</td>\n",
       "</tr>\n",
       "<tr>\n",
       "  <th>Kms_Driven</th>    <td>-1.267e-06</td> <td> 3.51e-06</td> <td>   -0.361</td> <td> 0.718</td> <td>-8.17e-06</td> <td> 5.64e-06</td>\n",
       "</tr>\n",
       "<tr>\n",
       "  <th>Owner</th>         <td>   -0.9513</td> <td>    0.466</td> <td>   -2.042</td> <td> 0.042</td> <td>   -1.868</td> <td>   -0.034</td>\n",
       "</tr>\n",
       "</table>\n",
       "<table class=\"simpletable\">\n",
       "<tr>\n",
       "  <th>Omnibus:</th>       <td>69.450</td> <th>  Durbin-Watson:     </th> <td>   1.560</td> \n",
       "</tr>\n",
       "<tr>\n",
       "  <th>Prob(Omnibus):</th> <td> 0.000</td> <th>  Jarque-Bera (JB):  </th> <td>1362.873</td> \n",
       "</tr>\n",
       "<tr>\n",
       "  <th>Skew:</th>          <td> 0.241</td> <th>  Prob(JB):          </th> <td>1.14e-296</td>\n",
       "</tr>\n",
       "<tr>\n",
       "  <th>Kurtosis:</th>      <td>13.413</td> <th>  Cond. No.          </th> <td>4.46e+07</td> \n",
       "</tr>\n",
       "</table><br/><br/>Notes:<br/>[1] Standard Errors assume that the covariance matrix of the errors is correctly specified.<br/>[2] The condition number is large, 4.46e+07. This might indicate that there are<br/>strong multicollinearity or other numerical problems."
      ],
      "text/plain": [
       "<class 'statsmodels.iolib.summary.Summary'>\n",
       "\"\"\"\n",
       "                            OLS Regression Results                            \n",
       "==============================================================================\n",
       "Dep. Variable:          Selling_Price   R-squared:                       0.852\n",
       "Model:                            OLS   Adj. R-squared:                  0.850\n",
       "Method:                 Least Squares   F-statistic:                     426.6\n",
       "Date:                Sat, 04 Feb 2023   Prob (F-statistic):          1.66e-121\n",
       "Time:                        19:46:52   Log-Likelihood:                -628.25\n",
       "No. Observations:                 301   AIC:                             1267.\n",
       "Df Residuals:                     296   BIC:                             1285.\n",
       "Df Model:                           4                                         \n",
       "Covariance Type:            nonrobust                                         \n",
       "=================================================================================\n",
       "                    coef    std err          t      P>|t|      [0.025      0.975]\n",
       "---------------------------------------------------------------------------------\n",
       "const          -937.7642     94.392     -9.935      0.000   -1123.528    -752.000\n",
       "Year              0.4661      0.047      9.949      0.000       0.374       0.558\n",
       "Present_Price     0.5256      0.013     39.067      0.000       0.499       0.552\n",
       "Kms_Driven    -1.267e-06   3.51e-06     -0.361      0.718   -8.17e-06    5.64e-06\n",
       "Owner            -0.9513      0.466     -2.042      0.042      -1.868      -0.034\n",
       "==============================================================================\n",
       "Omnibus:                       69.450   Durbin-Watson:                   1.560\n",
       "Prob(Omnibus):                  0.000   Jarque-Bera (JB):             1362.873\n",
       "Skew:                           0.241   Prob(JB):                    1.14e-296\n",
       "Kurtosis:                      13.413   Cond. No.                     4.46e+07\n",
       "==============================================================================\n",
       "\n",
       "Notes:\n",
       "[1] Standard Errors assume that the covariance matrix of the errors is correctly specified.\n",
       "[2] The condition number is large, 4.46e+07. This might indicate that there are\n",
       "strong multicollinearity or other numerical problems.\n",
       "\"\"\""
      ]
     },
     "execution_count": 24,
     "metadata": {},
     "output_type": "execute_result"
    }
   ],
   "source": [
    "x= df.loc[:,['const','Year','Present_Price','Kms_Driven','Owner']]\n",
    "y=  df.Selling_Price\n",
    "\n",
    "model = OLS(y,x).fit()\n",
    "model.summary()"
   ]
  },
  {
   "cell_type": "markdown",
   "metadata": {},
   "source": [
    "Present price and Owner of the car has high realtion with the selling price of the car."
   ]
  },
  {
   "cell_type": "markdown",
   "metadata": {
    "id": "wgGLITc6LzAD"
   },
   "source": [
    "<table align=\"left\">\n",
    "    <tr>\n",
    "        <td width=\"6%\">\n",
    "            <img src=\"question_icon.png\">\n",
    "        </td>\n",
    "        <td>\n",
    "            <div align=\"left\", style=\"font-size:120%\">\n",
    "                <font color=\"#21618C\">\n",
    "                    <b>5. In the model obtained in question 4, consider the interaction effect of the present price of the car and the year in which it was purchased. Compare the resultant model with the model obtained in previous question and give your interpretation \n",
    "                    </b>\n",
    "                </font>\n",
    "            </div>\n",
    "        </td>\n",
    "    </tr>\n",
    "</table>"
   ]
  },
  {
   "cell_type": "code",
   "execution_count": 26,
   "metadata": {
    "id": "zJaqMCjMLzAF"
   },
   "outputs": [
    {
     "data": {
      "text/html": [
       "<table class=\"simpletable\">\n",
       "<caption>OLS Regression Results</caption>\n",
       "<tr>\n",
       "  <th>Dep. Variable:</th>      <td>Selling_Price</td>  <th>  R-squared:         </th> <td>   0.850</td> \n",
       "</tr>\n",
       "<tr>\n",
       "  <th>Model:</th>                   <td>OLS</td>       <th>  Adj. R-squared:    </th> <td>   0.849</td> \n",
       "</tr>\n",
       "<tr>\n",
       "  <th>Method:</th>             <td>Least Squares</td>  <th>  F-statistic:       </th> <td>   844.7</td> \n",
       "</tr>\n",
       "<tr>\n",
       "  <th>Date:</th>             <td>Sat, 04 Feb 2023</td> <th>  Prob (F-statistic):</th> <td>1.64e-123</td>\n",
       "</tr>\n",
       "<tr>\n",
       "  <th>Time:</th>                 <td>19:48:37</td>     <th>  Log-Likelihood:    </th> <td> -630.42</td> \n",
       "</tr>\n",
       "<tr>\n",
       "  <th>No. Observations:</th>      <td>   301</td>      <th>  AIC:               </th> <td>   1267.</td> \n",
       "</tr>\n",
       "<tr>\n",
       "  <th>Df Residuals:</th>          <td>   298</td>      <th>  BIC:               </th> <td>   1278.</td> \n",
       "</tr>\n",
       "<tr>\n",
       "  <th>Df Model:</th>              <td>     2</td>      <th>                     </th>     <td> </td>    \n",
       "</tr>\n",
       "<tr>\n",
       "  <th>Covariance Type:</th>      <td>nonrobust</td>    <th>                     </th>     <td> </td>    \n",
       "</tr>\n",
       "</table>\n",
       "<table class=\"simpletable\">\n",
       "<tr>\n",
       "        <td></td>           <th>coef</th>     <th>std err</th>      <th>t</th>      <th>P>|t|</th>  <th>[0.025</th>    <th>0.975]</th>  \n",
       "</tr>\n",
       "<tr>\n",
       "  <th>const</th>         <td> -985.4594</td> <td>   79.494</td> <td>  -12.397</td> <td> 0.000</td> <td>-1141.900</td> <td> -829.019</td>\n",
       "</tr>\n",
       "<tr>\n",
       "  <th>Present_Price</th> <td>    0.5246</td> <td>    0.013</td> <td>   39.731</td> <td> 0.000</td> <td>    0.499</td> <td>    0.551</td>\n",
       "</tr>\n",
       "<tr>\n",
       "  <th>Year</th>          <td>    0.4897</td> <td>    0.039</td> <td>   12.406</td> <td> 0.000</td> <td>    0.412</td> <td>    0.567</td>\n",
       "</tr>\n",
       "</table>\n",
       "<table class=\"simpletable\">\n",
       "<tr>\n",
       "  <th>Omnibus:</th>       <td>67.412</td> <th>  Durbin-Watson:     </th> <td>   1.526</td> \n",
       "</tr>\n",
       "<tr>\n",
       "  <th>Prob(Omnibus):</th> <td> 0.000</td> <th>  Jarque-Bera (JB):  </th> <td>1300.900</td> \n",
       "</tr>\n",
       "<tr>\n",
       "  <th>Skew:</th>          <td> 0.186</td> <th>  Prob(JB):          </th> <td>3.26e-283</td>\n",
       "</tr>\n",
       "<tr>\n",
       "  <th>Kurtosis:</th>      <td>13.178</td> <th>  Cond. No.          </th> <td>1.41e+06</td> \n",
       "</tr>\n",
       "</table><br/><br/>Notes:<br/>[1] Standard Errors assume that the covariance matrix of the errors is correctly specified.<br/>[2] The condition number is large, 1.41e+06. This might indicate that there are<br/>strong multicollinearity or other numerical problems."
      ],
      "text/plain": [
       "<class 'statsmodels.iolib.summary.Summary'>\n",
       "\"\"\"\n",
       "                            OLS Regression Results                            \n",
       "==============================================================================\n",
       "Dep. Variable:          Selling_Price   R-squared:                       0.850\n",
       "Model:                            OLS   Adj. R-squared:                  0.849\n",
       "Method:                 Least Squares   F-statistic:                     844.7\n",
       "Date:                Sat, 04 Feb 2023   Prob (F-statistic):          1.64e-123\n",
       "Time:                        19:48:37   Log-Likelihood:                -630.42\n",
       "No. Observations:                 301   AIC:                             1267.\n",
       "Df Residuals:                     298   BIC:                             1278.\n",
       "Df Model:                           2                                         \n",
       "Covariance Type:            nonrobust                                         \n",
       "=================================================================================\n",
       "                    coef    std err          t      P>|t|      [0.025      0.975]\n",
       "---------------------------------------------------------------------------------\n",
       "const          -985.4594     79.494    -12.397      0.000   -1141.900    -829.019\n",
       "Present_Price     0.5246      0.013     39.731      0.000       0.499       0.551\n",
       "Year              0.4897      0.039     12.406      0.000       0.412       0.567\n",
       "==============================================================================\n",
       "Omnibus:                       67.412   Durbin-Watson:                   1.526\n",
       "Prob(Omnibus):                  0.000   Jarque-Bera (JB):             1300.900\n",
       "Skew:                           0.186   Prob(JB):                    3.26e-283\n",
       "Kurtosis:                      13.178   Cond. No.                     1.41e+06\n",
       "==============================================================================\n",
       "\n",
       "Notes:\n",
       "[1] Standard Errors assume that the covariance matrix of the errors is correctly specified.\n",
       "[2] The condition number is large, 1.41e+06. This might indicate that there are\n",
       "strong multicollinearity or other numerical problems.\n",
       "\"\"\""
      ]
     },
     "execution_count": 26,
     "metadata": {},
     "output_type": "execute_result"
    }
   ],
   "source": [
    "x = df.loc[:,['const','Present_Price','Year']]\n",
    "y = df.Selling_Price\n",
    "model = OLS(y,x).fit()\n",
    "model.summary()"
   ]
  },
  {
   "cell_type": "markdown",
   "metadata": {},
   "source": [
    "In this model, year has high impact in the model."
   ]
  },
  {
   "cell_type": "markdown",
   "metadata": {
    "id": "ldOMggUELzAH"
   },
   "source": [
    "<table align=\"left\">\n",
    "    <tr>\n",
    "        <td width=\"6%\">\n",
    "            <img src=\"question_icon.png\">\n",
    "        </td>\n",
    "        <td>\n",
    "            <div align=\"left\", style=\"font-size:120%\">\n",
    "                <font color=\"#21618C\">\n",
    "                    <b>6. What is the impact of fuel type of cars on the selling price? \n",
    "                    </b>\n",
    "                </font>\n",
    "            </div>\n",
    "        </td>\n",
    "    </tr>\n",
    "</table>"
   ]
  },
  {
   "cell_type": "code",
   "execution_count": 33,
   "metadata": {
    "id": "NCp7TIAmLzAK"
   },
   "outputs": [
    {
     "data": {
      "text/html": [
       "<table class=\"simpletable\">\n",
       "<caption>OLS Regression Results</caption>\n",
       "<tr>\n",
       "  <th>Dep. Variable:</th>      <td>Selling_Price</td>  <th>  R-squared:         </th> <td>   0.305</td>\n",
       "</tr>\n",
       "<tr>\n",
       "  <th>Model:</th>                   <td>OLS</td>       <th>  Adj. R-squared:    </th> <td>   0.300</td>\n",
       "</tr>\n",
       "<tr>\n",
       "  <th>Method:</th>             <td>Least Squares</td>  <th>  F-statistic:       </th> <td>   65.41</td>\n",
       "</tr>\n",
       "<tr>\n",
       "  <th>Date:</th>             <td>Sat, 04 Feb 2023</td> <th>  Prob (F-statistic):</th> <td>2.80e-24</td>\n",
       "</tr>\n",
       "<tr>\n",
       "  <th>Time:</th>                 <td>21:28:07</td>     <th>  Log-Likelihood:    </th> <td> -861.21</td>\n",
       "</tr>\n",
       "<tr>\n",
       "  <th>No. Observations:</th>      <td>   301</td>      <th>  AIC:               </th> <td>   1728.</td>\n",
       "</tr>\n",
       "<tr>\n",
       "  <th>Df Residuals:</th>          <td>   298</td>      <th>  BIC:               </th> <td>   1740.</td>\n",
       "</tr>\n",
       "<tr>\n",
       "  <th>Df Model:</th>              <td>     2</td>      <th>                     </th>     <td> </td>   \n",
       "</tr>\n",
       "<tr>\n",
       "  <th>Covariance Type:</th>      <td>nonrobust</td>    <th>                     </th>     <td> </td>   \n",
       "</tr>\n",
       "</table>\n",
       "<table class=\"simpletable\">\n",
       "<tr>\n",
       "           <td></td>              <th>coef</th>     <th>std err</th>      <th>t</th>      <th>P>|t|</th>  <th>[0.025</th>    <th>0.975]</th>  \n",
       "</tr>\n",
       "<tr>\n",
       "  <th>Intercept</th>           <td>    3.1000</td> <td>    3.006</td> <td>    1.031</td> <td> 0.303</td> <td>   -2.816</td> <td>    9.016</td>\n",
       "</tr>\n",
       "<tr>\n",
       "  <th>Fuel_Type[T.Diesel]</th> <td>    7.1785</td> <td>    3.056</td> <td>    2.349</td> <td> 0.019</td> <td>    1.165</td> <td>   13.192</td>\n",
       "</tr>\n",
       "<tr>\n",
       "  <th>Fuel_Type[T.Petrol]</th> <td>    0.1642</td> <td>    3.019</td> <td>    0.054</td> <td> 0.957</td> <td>   -5.776</td> <td>    6.105</td>\n",
       "</tr>\n",
       "</table>\n",
       "<table class=\"simpletable\">\n",
       "<tr>\n",
       "  <th>Omnibus:</th>       <td>149.368</td> <th>  Durbin-Watson:     </th> <td>   1.338</td> \n",
       "</tr>\n",
       "<tr>\n",
       "  <th>Prob(Omnibus):</th> <td> 0.000</td>  <th>  Jarque-Bera (JB):  </th> <td> 826.132</td> \n",
       "</tr>\n",
       "<tr>\n",
       "  <th>Skew:</th>          <td> 2.022</td>  <th>  Prob(JB):          </th> <td>4.05e-180</td>\n",
       "</tr>\n",
       "<tr>\n",
       "  <th>Kurtosis:</th>      <td>10.036</td>  <th>  Cond. No.          </th> <td>    27.9</td> \n",
       "</tr>\n",
       "</table><br/><br/>Notes:<br/>[1] Standard Errors assume that the covariance matrix of the errors is correctly specified."
      ],
      "text/plain": [
       "<class 'statsmodels.iolib.summary.Summary'>\n",
       "\"\"\"\n",
       "                            OLS Regression Results                            \n",
       "==============================================================================\n",
       "Dep. Variable:          Selling_Price   R-squared:                       0.305\n",
       "Model:                            OLS   Adj. R-squared:                  0.300\n",
       "Method:                 Least Squares   F-statistic:                     65.41\n",
       "Date:                Sat, 04 Feb 2023   Prob (F-statistic):           2.80e-24\n",
       "Time:                        21:28:07   Log-Likelihood:                -861.21\n",
       "No. Observations:                 301   AIC:                             1728.\n",
       "Df Residuals:                     298   BIC:                             1740.\n",
       "Df Model:                           2                                         \n",
       "Covariance Type:            nonrobust                                         \n",
       "=======================================================================================\n",
       "                          coef    std err          t      P>|t|      [0.025      0.975]\n",
       "---------------------------------------------------------------------------------------\n",
       "Intercept               3.1000      3.006      1.031      0.303      -2.816       9.016\n",
       "Fuel_Type[T.Diesel]     7.1785      3.056      2.349      0.019       1.165      13.192\n",
       "Fuel_Type[T.Petrol]     0.1642      3.019      0.054      0.957      -5.776       6.105\n",
       "==============================================================================\n",
       "Omnibus:                      149.368   Durbin-Watson:                   1.338\n",
       "Prob(Omnibus):                  0.000   Jarque-Bera (JB):              826.132\n",
       "Skew:                           2.022   Prob(JB):                    4.05e-180\n",
       "Kurtosis:                      10.036   Cond. No.                         27.9\n",
       "==============================================================================\n",
       "\n",
       "Notes:\n",
       "[1] Standard Errors assume that the covariance matrix of the errors is correctly specified.\n",
       "\"\"\""
      ]
     },
     "execution_count": 33,
     "metadata": {},
     "output_type": "execute_result"
    }
   ],
   "source": [
    "import statsmodels.formula.api as sma\n",
    "model = sma.ols('Selling_Price~Fuel_Type',data = car).fit()\n",
    "model.summary()"
   ]
  },
  {
   "cell_type": "markdown",
   "metadata": {},
   "source": [
    "* There is no effect of fuel type on the selling price."
   ]
  },
  {
   "cell_type": "markdown",
   "metadata": {
    "id": "rQ-57z2MLzAM"
   },
   "source": [
    "<table align=\"left\">\n",
    "    <tr>\n",
    "        <td width=\"6%\">\n",
    "            <img src=\"question_icon.png\">\n",
    "        </td>\n",
    "        <td>\n",
    "            <div align=\"left\", style=\"font-size:120%\">\n",
    "                <font color=\"#21618C\">\n",
    "                    <b>7. Does the model significantly explain variation in the target variable? Justify your answer with analysis of variation \n",
    "                    </b>\n",
    "                </font>\n",
    "            </div>\n",
    "        </td>\n",
    "    </tr>\n",
    "</table>"
   ]
  },
  {
   "cell_type": "markdown",
   "metadata": {
    "id": "v1JzsaEmLzAQ"
   },
   "source": [
    "            Regress the selling price over the transmission.\n",
    "            \n",
    "            Selling_Price ~ Transmission"
   ]
  },
  {
   "cell_type": "code",
   "execution_count": 36,
   "metadata": {
    "id": "DLQhwFdULzAV"
   },
   "outputs": [
    {
     "data": {
      "text/html": [
       "<table class=\"simpletable\">\n",
       "<caption>OLS Regression Results</caption>\n",
       "<tr>\n",
       "  <th>Dep. Variable:</th>      <td>Selling_Price</td>  <th>  R-squared:         </th> <td>   0.135</td>\n",
       "</tr>\n",
       "<tr>\n",
       "  <th>Model:</th>                   <td>OLS</td>       <th>  Adj. R-squared:    </th> <td>   0.132</td>\n",
       "</tr>\n",
       "<tr>\n",
       "  <th>Method:</th>             <td>Least Squares</td>  <th>  F-statistic:       </th> <td>   46.58</td>\n",
       "</tr>\n",
       "<tr>\n",
       "  <th>Date:</th>             <td>Sat, 04 Feb 2023</td> <th>  Prob (F-statistic):</th> <td>4.90e-11</td>\n",
       "</tr>\n",
       "<tr>\n",
       "  <th>Time:</th>                 <td>21:59:53</td>     <th>  Log-Likelihood:    </th> <td> -894.20</td>\n",
       "</tr>\n",
       "<tr>\n",
       "  <th>No. Observations:</th>      <td>   301</td>      <th>  AIC:               </th> <td>   1792.</td>\n",
       "</tr>\n",
       "<tr>\n",
       "  <th>Df Residuals:</th>          <td>   299</td>      <th>  BIC:               </th> <td>   1800.</td>\n",
       "</tr>\n",
       "<tr>\n",
       "  <th>Df Model:</th>              <td>     1</td>      <th>                     </th>     <td> </td>   \n",
       "</tr>\n",
       "<tr>\n",
       "  <th>Covariance Type:</th>      <td>nonrobust</td>    <th>                     </th>     <td> </td>   \n",
       "</tr>\n",
       "</table>\n",
       "<table class=\"simpletable\">\n",
       "<tr>\n",
       "             <td></td>               <th>coef</th>     <th>std err</th>      <th>t</th>      <th>P>|t|</th>  <th>[0.025</th>    <th>0.975]</th>  \n",
       "</tr>\n",
       "<tr>\n",
       "  <th>Intercept</th>              <td>    9.4200</td> <td>    0.749</td> <td>   12.580</td> <td> 0.000</td> <td>    7.946</td> <td>   10.894</td>\n",
       "</tr>\n",
       "<tr>\n",
       "  <th>Transmission[T.Manual]</th> <td>   -5.4880</td> <td>    0.804</td> <td>   -6.825</td> <td> 0.000</td> <td>   -7.070</td> <td>   -3.906</td>\n",
       "</tr>\n",
       "</table>\n",
       "<table class=\"simpletable\">\n",
       "<tr>\n",
       "  <th>Omnibus:</th>       <td>143.925</td> <th>  Durbin-Watson:     </th> <td>   1.182</td> \n",
       "</tr>\n",
       "<tr>\n",
       "  <th>Prob(Omnibus):</th> <td> 0.000</td>  <th>  Jarque-Bera (JB):  </th> <td> 946.055</td> \n",
       "</tr>\n",
       "<tr>\n",
       "  <th>Skew:</th>          <td> 1.855</td>  <th>  Prob(JB):          </th> <td>3.69e-206</td>\n",
       "</tr>\n",
       "<tr>\n",
       "  <th>Kurtosis:</th>      <td>10.853</td>  <th>  Cond. No.          </th> <td>    5.31</td> \n",
       "</tr>\n",
       "</table><br/><br/>Notes:<br/>[1] Standard Errors assume that the covariance matrix of the errors is correctly specified."
      ],
      "text/plain": [
       "<class 'statsmodels.iolib.summary.Summary'>\n",
       "\"\"\"\n",
       "                            OLS Regression Results                            \n",
       "==============================================================================\n",
       "Dep. Variable:          Selling_Price   R-squared:                       0.135\n",
       "Model:                            OLS   Adj. R-squared:                  0.132\n",
       "Method:                 Least Squares   F-statistic:                     46.58\n",
       "Date:                Sat, 04 Feb 2023   Prob (F-statistic):           4.90e-11\n",
       "Time:                        21:59:53   Log-Likelihood:                -894.20\n",
       "No. Observations:                 301   AIC:                             1792.\n",
       "Df Residuals:                     299   BIC:                             1800.\n",
       "Df Model:                           1                                         \n",
       "Covariance Type:            nonrobust                                         \n",
       "==========================================================================================\n",
       "                             coef    std err          t      P>|t|      [0.025      0.975]\n",
       "------------------------------------------------------------------------------------------\n",
       "Intercept                  9.4200      0.749     12.580      0.000       7.946      10.894\n",
       "Transmission[T.Manual]    -5.4880      0.804     -6.825      0.000      -7.070      -3.906\n",
       "==============================================================================\n",
       "Omnibus:                      143.925   Durbin-Watson:                   1.182\n",
       "Prob(Omnibus):                  0.000   Jarque-Bera (JB):              946.055\n",
       "Skew:                           1.855   Prob(JB):                    3.69e-206\n",
       "Kurtosis:                      10.853   Cond. No.                         5.31\n",
       "==============================================================================\n",
       "\n",
       "Notes:\n",
       "[1] Standard Errors assume that the covariance matrix of the errors is correctly specified.\n",
       "\"\"\""
      ]
     },
     "execution_count": 36,
     "metadata": {},
     "output_type": "execute_result"
    }
   ],
   "source": [
    "sma.ols('Selling_Price~Transmission',data = car).fit().summary()"
   ]
  },
  {
   "cell_type": "markdown",
   "metadata": {},
   "source": [
    "This is not a good model as its durbin watson is 1.1"
   ]
  },
  {
   "cell_type": "markdown",
   "metadata": {
    "id": "JPfP_2aOLzAW"
   },
   "source": [
    "<table align=\"left\">\n",
    "    <tr>\n",
    "        <td width=\"6%\">\n",
    "            <img src=\"question_icon.png\">\n",
    "        </td>\n",
    "        <td>\n",
    "            <div align=\"left\", style=\"font-size:120%\">\n",
    "                <font color=\"#21618C\">\n",
    "                    <b>8. Regress the selling price over the present price. Compare the 99% and 95% confidence interval of present price of a car\n",
    "                    </b>\n",
    "                </font>\n",
    "            </div>\n",
    "        </td>\n",
    "    </tr>\n",
    "</table>"
   ]
  },
  {
   "cell_type": "code",
   "execution_count": null,
   "metadata": {
    "id": "cw8zoyXpLzAY"
   },
   "outputs": [],
   "source": [
    "# type your code here"
   ]
  },
  {
   "cell_type": "markdown",
   "metadata": {
    "id": "ep3mt7kKLzAY"
   },
   "source": [
    "<table align=\"left\">\n",
    "    <tr>\n",
    "        <td width=\"6%\">\n",
    "            <img src=\"question_icon.png\">\n",
    "        </td>\n",
    "        <td>\n",
    "            <div align=\"left\", style=\"font-size:120%\">\n",
    "                <font color=\"#21618C\">\n",
    "                        <b>9. Verify the statement: The sum of the residuals in any regression model that contains an intercept β<sub>0</sub> is always zero\n",
    "                    </b>\n",
    "                </font>\n",
    "            </div>\n",
    "        </td>\n",
    "    </tr>\n",
    "</table>"
   ]
  },
  {
   "cell_type": "markdown",
   "metadata": {
    "id": "I5yu1x_pLzAa"
   },
   "source": [
    "        To verify the result, we will fit a regression model of 'Present_Price' on 'Selling_Price' "
   ]
  },
  {
   "cell_type": "code",
   "execution_count": 43,
   "metadata": {
    "id": "PgGggC9CLzAb"
   },
   "outputs": [],
   "source": [
    "model = sma.ols('Selling_Price~Present_Price',data = car).fit()"
   ]
  },
  {
   "cell_type": "code",
   "execution_count": 44,
   "metadata": {},
   "outputs": [
    {
     "data": {
      "text/html": [
       "<table class=\"simpletable\">\n",
       "<caption>OLS Regression Results</caption>\n",
       "<tr>\n",
       "  <th>Dep. Variable:</th>      <td>Selling_Price</td>  <th>  R-squared:         </th> <td>   0.773</td>\n",
       "</tr>\n",
       "<tr>\n",
       "  <th>Model:</th>                   <td>OLS</td>       <th>  Adj. R-squared:    </th> <td>   0.772</td>\n",
       "</tr>\n",
       "<tr>\n",
       "  <th>Method:</th>             <td>Least Squares</td>  <th>  F-statistic:       </th> <td>   1016.</td>\n",
       "</tr>\n",
       "<tr>\n",
       "  <th>Date:</th>             <td>Sun, 05 Feb 2023</td> <th>  Prob (F-statistic):</th> <td>3.60e-98</td>\n",
       "</tr>\n",
       "<tr>\n",
       "  <th>Time:</th>                 <td>20:34:17</td>     <th>  Log-Likelihood:    </th> <td> -693.08</td>\n",
       "</tr>\n",
       "<tr>\n",
       "  <th>No. Observations:</th>      <td>   301</td>      <th>  AIC:               </th> <td>   1390.</td>\n",
       "</tr>\n",
       "<tr>\n",
       "  <th>Df Residuals:</th>          <td>   299</td>      <th>  BIC:               </th> <td>   1398.</td>\n",
       "</tr>\n",
       "<tr>\n",
       "  <th>Df Model:</th>              <td>     1</td>      <th>                     </th>     <td> </td>   \n",
       "</tr>\n",
       "<tr>\n",
       "  <th>Covariance Type:</th>      <td>nonrobust</td>    <th>                     </th>     <td> </td>   \n",
       "</tr>\n",
       "</table>\n",
       "<table class=\"simpletable\">\n",
       "<tr>\n",
       "        <td></td>           <th>coef</th>     <th>std err</th>      <th>t</th>      <th>P>|t|</th>  <th>[0.025</th>    <th>0.975]</th>  \n",
       "</tr>\n",
       "<tr>\n",
       "  <th>Intercept</th>     <td>    0.7185</td> <td>    0.187</td> <td>    3.847</td> <td> 0.000</td> <td>    0.351</td> <td>    1.086</td>\n",
       "</tr>\n",
       "<tr>\n",
       "  <th>Present_Price</th> <td>    0.5168</td> <td>    0.016</td> <td>   31.874</td> <td> 0.000</td> <td>    0.485</td> <td>    0.549</td>\n",
       "</tr>\n",
       "</table>\n",
       "<table class=\"simpletable\">\n",
       "<tr>\n",
       "  <th>Omnibus:</th>       <td>59.775</td> <th>  Durbin-Watson:     </th> <td>   1.533</td> \n",
       "</tr>\n",
       "<tr>\n",
       "  <th>Prob(Omnibus):</th> <td> 0.000</td> <th>  Jarque-Bera (JB):  </th> <td> 926.121</td> \n",
       "</tr>\n",
       "<tr>\n",
       "  <th>Skew:</th>          <td> 0.084</td> <th>  Prob(JB):          </th> <td>7.86e-202</td>\n",
       "</tr>\n",
       "<tr>\n",
       "  <th>Kurtosis:</th>      <td>11.592</td> <th>  Cond. No.          </th> <td>    15.4</td> \n",
       "</tr>\n",
       "</table><br/><br/>Notes:<br/>[1] Standard Errors assume that the covariance matrix of the errors is correctly specified."
      ],
      "text/plain": [
       "<class 'statsmodels.iolib.summary.Summary'>\n",
       "\"\"\"\n",
       "                            OLS Regression Results                            \n",
       "==============================================================================\n",
       "Dep. Variable:          Selling_Price   R-squared:                       0.773\n",
       "Model:                            OLS   Adj. R-squared:                  0.772\n",
       "Method:                 Least Squares   F-statistic:                     1016.\n",
       "Date:                Sun, 05 Feb 2023   Prob (F-statistic):           3.60e-98\n",
       "Time:                        20:34:17   Log-Likelihood:                -693.08\n",
       "No. Observations:                 301   AIC:                             1390.\n",
       "Df Residuals:                     299   BIC:                             1398.\n",
       "Df Model:                           1                                         \n",
       "Covariance Type:            nonrobust                                         \n",
       "=================================================================================\n",
       "                    coef    std err          t      P>|t|      [0.025      0.975]\n",
       "---------------------------------------------------------------------------------\n",
       "Intercept         0.7185      0.187      3.847      0.000       0.351       1.086\n",
       "Present_Price     0.5168      0.016     31.874      0.000       0.485       0.549\n",
       "==============================================================================\n",
       "Omnibus:                       59.775   Durbin-Watson:                   1.533\n",
       "Prob(Omnibus):                  0.000   Jarque-Bera (JB):              926.121\n",
       "Skew:                           0.084   Prob(JB):                    7.86e-202\n",
       "Kurtosis:                      11.592   Cond. No.                         15.4\n",
       "==============================================================================\n",
       "\n",
       "Notes:\n",
       "[1] Standard Errors assume that the covariance matrix of the errors is correctly specified.\n",
       "\"\"\""
      ]
     },
     "execution_count": 44,
     "metadata": {},
     "output_type": "execute_result"
    }
   ],
   "source": [
    "model.summary()"
   ]
  },
  {
   "cell_type": "markdown",
   "metadata": {
    "id": "0dWKYbVQLzAc"
   },
   "source": [
    "<table align=\"left\">\n",
    "    <tr>\n",
    "        <td width=\"6%\">\n",
    "            <img src=\"question_icon.png\">\n",
    "        </td>\n",
    "        <td>\n",
    "            <div align=\"left\", style=\"font-size:120%\">\n",
    "                <font color=\"#21618C\">\n",
    "                    <b>10. Consider two models as specified below. Compare the performance of the models\n",
    "                    </b>\n",
    "                </font>\n",
    "            </div>\n",
    "        </td>\n",
    "    </tr>\n",
    "</table>"
   ]
  },
  {
   "cell_type": "markdown",
   "metadata": {
    "id": "VlpY1K8ALzAd"
   },
   "source": [
    "                First model:\n",
    "        \n",
    "        Selling_Price ~ Year + Present_Price + Kms_Driven + Owner + Fuel_Type + Seller_Type + Transmission\n",
    "        \n",
    "        \n",
    "                Second model:\n",
    "        \n",
    "        Selling_Price ~ Year + Present_Price + Kms_Driven + Owner "
   ]
  },
  {
   "cell_type": "code",
   "execution_count": 40,
   "metadata": {
    "id": "jNEYswd-LzAe"
   },
   "outputs": [
    {
     "data": {
      "text/html": [
       "<table class=\"simpletable\">\n",
       "<caption>OLS Regression Results</caption>\n",
       "<tr>\n",
       "  <th>Dep. Variable:</th>      <td>Selling_Price</td>  <th>  R-squared:         </th> <td>   0.883</td> \n",
       "</tr>\n",
       "<tr>\n",
       "  <th>Model:</th>                   <td>OLS</td>       <th>  Adj. R-squared:    </th> <td>   0.879</td> \n",
       "</tr>\n",
       "<tr>\n",
       "  <th>Method:</th>             <td>Least Squares</td>  <th>  F-statistic:       </th> <td>   274.3</td> \n",
       "</tr>\n",
       "<tr>\n",
       "  <th>Date:</th>             <td>Sat, 04 Feb 2023</td> <th>  Prob (F-statistic):</th> <td>5.71e-131</td>\n",
       "</tr>\n",
       "<tr>\n",
       "  <th>Time:</th>                 <td>22:12:12</td>     <th>  Log-Likelihood:    </th> <td> -593.62</td> \n",
       "</tr>\n",
       "<tr>\n",
       "  <th>No. Observations:</th>      <td>   301</td>      <th>  AIC:               </th> <td>   1205.</td> \n",
       "</tr>\n",
       "<tr>\n",
       "  <th>Df Residuals:</th>          <td>   292</td>      <th>  BIC:               </th> <td>   1239.</td> \n",
       "</tr>\n",
       "<tr>\n",
       "  <th>Df Model:</th>              <td>     8</td>      <th>                     </th>     <td> </td>    \n",
       "</tr>\n",
       "<tr>\n",
       "  <th>Covariance Type:</th>      <td>nonrobust</td>    <th>                     </th>     <td> </td>    \n",
       "</tr>\n",
       "</table>\n",
       "<table class=\"simpletable\">\n",
       "<tr>\n",
       "              <td></td>                 <th>coef</th>     <th>std err</th>      <th>t</th>      <th>P>|t|</th>  <th>[0.025</th>    <th>0.975]</th>  \n",
       "</tr>\n",
       "<tr>\n",
       "  <th>Intercept</th>                 <td> -789.2366</td> <td>   86.522</td> <td>   -9.122</td> <td> 0.000</td> <td> -959.522</td> <td> -618.951</td>\n",
       "</tr>\n",
       "<tr>\n",
       "  <th>Fuel_Type[T.Diesel]</th>       <td>    2.4699</td> <td>    1.278</td> <td>    1.932</td> <td> 0.054</td> <td>   -0.046</td> <td>    4.986</td>\n",
       "</tr>\n",
       "<tr>\n",
       "  <th>Fuel_Type[T.Petrol]</th>       <td>    0.6077</td> <td>    1.259</td> <td>    0.483</td> <td> 0.630</td> <td>   -1.870</td> <td>    3.085</td>\n",
       "</tr>\n",
       "<tr>\n",
       "  <th>Seller_Type[T.Individual]</th> <td>   -1.1213</td> <td>    0.257</td> <td>   -4.371</td> <td> 0.000</td> <td>   -1.626</td> <td>   -0.616</td>\n",
       "</tr>\n",
       "<tr>\n",
       "  <th>Transmission[T.Manual]</th>    <td>   -1.4482</td> <td>    0.328</td> <td>   -4.417</td> <td> 0.000</td> <td>   -2.093</td> <td>   -0.803</td>\n",
       "</tr>\n",
       "<tr>\n",
       "  <th>Year</th>                      <td>    0.3931</td> <td>    0.043</td> <td>    9.159</td> <td> 0.000</td> <td>    0.309</td> <td>    0.478</td>\n",
       "</tr>\n",
       "<tr>\n",
       "  <th>Present_Price</th>             <td>    0.4372</td> <td>    0.016</td> <td>   27.355</td> <td> 0.000</td> <td>    0.406</td> <td>    0.469</td>\n",
       "</tr>\n",
       "<tr>\n",
       "  <th>Kms_Driven</th>                <td>-7.013e-06</td> <td> 3.23e-06</td> <td>   -2.172</td> <td> 0.031</td> <td>-1.34e-05</td> <td>-6.57e-07</td>\n",
       "</tr>\n",
       "<tr>\n",
       "  <th>Owner</th>                     <td>   -0.6742</td> <td>    0.423</td> <td>   -1.595</td> <td> 0.112</td> <td>   -1.506</td> <td>    0.158</td>\n",
       "</tr>\n",
       "</table>\n",
       "<table class=\"simpletable\">\n",
       "<tr>\n",
       "  <th>Omnibus:</th>       <td>95.107</td> <th>  Durbin-Watson:     </th> <td>   1.795</td> \n",
       "</tr>\n",
       "<tr>\n",
       "  <th>Prob(Omnibus):</th> <td> 0.000</td> <th>  Jarque-Bera (JB):  </th> <td> 696.392</td> \n",
       "</tr>\n",
       "<tr>\n",
       "  <th>Skew:</th>          <td> 1.075</td> <th>  Prob(JB):          </th> <td>6.03e-152</td>\n",
       "</tr>\n",
       "<tr>\n",
       "  <th>Kurtosis:</th>      <td>10.135</td> <th>  Cond. No.          </th> <td>4.56e+07</td> \n",
       "</tr>\n",
       "</table><br/><br/>Notes:<br/>[1] Standard Errors assume that the covariance matrix of the errors is correctly specified.<br/>[2] The condition number is large, 4.56e+07. This might indicate that there are<br/>strong multicollinearity or other numerical problems."
      ],
      "text/plain": [
       "<class 'statsmodels.iolib.summary.Summary'>\n",
       "\"\"\"\n",
       "                            OLS Regression Results                            \n",
       "==============================================================================\n",
       "Dep. Variable:          Selling_Price   R-squared:                       0.883\n",
       "Model:                            OLS   Adj. R-squared:                  0.879\n",
       "Method:                 Least Squares   F-statistic:                     274.3\n",
       "Date:                Sat, 04 Feb 2023   Prob (F-statistic):          5.71e-131\n",
       "Time:                        22:12:12   Log-Likelihood:                -593.62\n",
       "No. Observations:                 301   AIC:                             1205.\n",
       "Df Residuals:                     292   BIC:                             1239.\n",
       "Df Model:                           8                                         \n",
       "Covariance Type:            nonrobust                                         \n",
       "=============================================================================================\n",
       "                                coef    std err          t      P>|t|      [0.025      0.975]\n",
       "---------------------------------------------------------------------------------------------\n",
       "Intercept                  -789.2366     86.522     -9.122      0.000    -959.522    -618.951\n",
       "Fuel_Type[T.Diesel]           2.4699      1.278      1.932      0.054      -0.046       4.986\n",
       "Fuel_Type[T.Petrol]           0.6077      1.259      0.483      0.630      -1.870       3.085\n",
       "Seller_Type[T.Individual]    -1.1213      0.257     -4.371      0.000      -1.626      -0.616\n",
       "Transmission[T.Manual]       -1.4482      0.328     -4.417      0.000      -2.093      -0.803\n",
       "Year                          0.3931      0.043      9.159      0.000       0.309       0.478\n",
       "Present_Price                 0.4372      0.016     27.355      0.000       0.406       0.469\n",
       "Kms_Driven                -7.013e-06   3.23e-06     -2.172      0.031   -1.34e-05   -6.57e-07\n",
       "Owner                        -0.6742      0.423     -1.595      0.112      -1.506       0.158\n",
       "==============================================================================\n",
       "Omnibus:                       95.107   Durbin-Watson:                   1.795\n",
       "Prob(Omnibus):                  0.000   Jarque-Bera (JB):              696.392\n",
       "Skew:                           1.075   Prob(JB):                    6.03e-152\n",
       "Kurtosis:                      10.135   Cond. No.                     4.56e+07\n",
       "==============================================================================\n",
       "\n",
       "Notes:\n",
       "[1] Standard Errors assume that the covariance matrix of the errors is correctly specified.\n",
       "[2] The condition number is large, 4.56e+07. This might indicate that there are\n",
       "strong multicollinearity or other numerical problems.\n",
       "\"\"\""
      ]
     },
     "execution_count": 40,
     "metadata": {},
     "output_type": "execute_result"
    }
   ],
   "source": [
    "model1 = sma.ols('Selling_Price~Year+Present_Price+Kms_Driven+Owner+Fuel_Type+Seller_Type+Transmission',data = car).fit()\n",
    "model1.summary()"
   ]
  },
  {
   "cell_type": "code",
   "execution_count": 41,
   "metadata": {},
   "outputs": [
    {
     "data": {
      "text/html": [
       "<table class=\"simpletable\">\n",
       "<caption>OLS Regression Results</caption>\n",
       "<tr>\n",
       "  <th>Dep. Variable:</th>      <td>Selling_Price</td>  <th>  R-squared:         </th> <td>   0.852</td> \n",
       "</tr>\n",
       "<tr>\n",
       "  <th>Model:</th>                   <td>OLS</td>       <th>  Adj. R-squared:    </th> <td>   0.850</td> \n",
       "</tr>\n",
       "<tr>\n",
       "  <th>Method:</th>             <td>Least Squares</td>  <th>  F-statistic:       </th> <td>   426.6</td> \n",
       "</tr>\n",
       "<tr>\n",
       "  <th>Date:</th>             <td>Sat, 04 Feb 2023</td> <th>  Prob (F-statistic):</th> <td>1.66e-121</td>\n",
       "</tr>\n",
       "<tr>\n",
       "  <th>Time:</th>                 <td>22:12:53</td>     <th>  Log-Likelihood:    </th> <td> -628.25</td> \n",
       "</tr>\n",
       "<tr>\n",
       "  <th>No. Observations:</th>      <td>   301</td>      <th>  AIC:               </th> <td>   1267.</td> \n",
       "</tr>\n",
       "<tr>\n",
       "  <th>Df Residuals:</th>          <td>   296</td>      <th>  BIC:               </th> <td>   1285.</td> \n",
       "</tr>\n",
       "<tr>\n",
       "  <th>Df Model:</th>              <td>     4</td>      <th>                     </th>     <td> </td>    \n",
       "</tr>\n",
       "<tr>\n",
       "  <th>Covariance Type:</th>      <td>nonrobust</td>    <th>                     </th>     <td> </td>    \n",
       "</tr>\n",
       "</table>\n",
       "<table class=\"simpletable\">\n",
       "<tr>\n",
       "        <td></td>           <th>coef</th>     <th>std err</th>      <th>t</th>      <th>P>|t|</th>  <th>[0.025</th>    <th>0.975]</th>  \n",
       "</tr>\n",
       "<tr>\n",
       "  <th>Intercept</th>     <td> -937.7642</td> <td>   94.392</td> <td>   -9.935</td> <td> 0.000</td> <td>-1123.528</td> <td> -752.000</td>\n",
       "</tr>\n",
       "<tr>\n",
       "  <th>Year</th>          <td>    0.4661</td> <td>    0.047</td> <td>    9.949</td> <td> 0.000</td> <td>    0.374</td> <td>    0.558</td>\n",
       "</tr>\n",
       "<tr>\n",
       "  <th>Present_Price</th> <td>    0.5256</td> <td>    0.013</td> <td>   39.067</td> <td> 0.000</td> <td>    0.499</td> <td>    0.552</td>\n",
       "</tr>\n",
       "<tr>\n",
       "  <th>Kms_Driven</th>    <td>-1.267e-06</td> <td> 3.51e-06</td> <td>   -0.361</td> <td> 0.718</td> <td>-8.17e-06</td> <td> 5.64e-06</td>\n",
       "</tr>\n",
       "<tr>\n",
       "  <th>Owner</th>         <td>   -0.9513</td> <td>    0.466</td> <td>   -2.042</td> <td> 0.042</td> <td>   -1.868</td> <td>   -0.034</td>\n",
       "</tr>\n",
       "</table>\n",
       "<table class=\"simpletable\">\n",
       "<tr>\n",
       "  <th>Omnibus:</th>       <td>69.450</td> <th>  Durbin-Watson:     </th> <td>   1.560</td> \n",
       "</tr>\n",
       "<tr>\n",
       "  <th>Prob(Omnibus):</th> <td> 0.000</td> <th>  Jarque-Bera (JB):  </th> <td>1362.873</td> \n",
       "</tr>\n",
       "<tr>\n",
       "  <th>Skew:</th>          <td> 0.241</td> <th>  Prob(JB):          </th> <td>1.14e-296</td>\n",
       "</tr>\n",
       "<tr>\n",
       "  <th>Kurtosis:</th>      <td>13.413</td> <th>  Cond. No.          </th> <td>4.46e+07</td> \n",
       "</tr>\n",
       "</table><br/><br/>Notes:<br/>[1] Standard Errors assume that the covariance matrix of the errors is correctly specified.<br/>[2] The condition number is large, 4.46e+07. This might indicate that there are<br/>strong multicollinearity or other numerical problems."
      ],
      "text/plain": [
       "<class 'statsmodels.iolib.summary.Summary'>\n",
       "\"\"\"\n",
       "                            OLS Regression Results                            \n",
       "==============================================================================\n",
       "Dep. Variable:          Selling_Price   R-squared:                       0.852\n",
       "Model:                            OLS   Adj. R-squared:                  0.850\n",
       "Method:                 Least Squares   F-statistic:                     426.6\n",
       "Date:                Sat, 04 Feb 2023   Prob (F-statistic):          1.66e-121\n",
       "Time:                        22:12:53   Log-Likelihood:                -628.25\n",
       "No. Observations:                 301   AIC:                             1267.\n",
       "Df Residuals:                     296   BIC:                             1285.\n",
       "Df Model:                           4                                         \n",
       "Covariance Type:            nonrobust                                         \n",
       "=================================================================================\n",
       "                    coef    std err          t      P>|t|      [0.025      0.975]\n",
       "---------------------------------------------------------------------------------\n",
       "Intercept      -937.7642     94.392     -9.935      0.000   -1123.528    -752.000\n",
       "Year              0.4661      0.047      9.949      0.000       0.374       0.558\n",
       "Present_Price     0.5256      0.013     39.067      0.000       0.499       0.552\n",
       "Kms_Driven    -1.267e-06   3.51e-06     -0.361      0.718   -8.17e-06    5.64e-06\n",
       "Owner            -0.9513      0.466     -2.042      0.042      -1.868      -0.034\n",
       "==============================================================================\n",
       "Omnibus:                       69.450   Durbin-Watson:                   1.560\n",
       "Prob(Omnibus):                  0.000   Jarque-Bera (JB):             1362.873\n",
       "Skew:                           0.241   Prob(JB):                    1.14e-296\n",
       "Kurtosis:                      13.413   Cond. No.                     4.46e+07\n",
       "==============================================================================\n",
       "\n",
       "Notes:\n",
       "[1] Standard Errors assume that the covariance matrix of the errors is correctly specified.\n",
       "[2] The condition number is large, 4.46e+07. This might indicate that there are\n",
       "strong multicollinearity or other numerical problems.\n",
       "\"\"\""
      ]
     },
     "execution_count": 41,
     "metadata": {},
     "output_type": "execute_result"
    }
   ],
   "source": [
    "model2 = sma.ols('Selling_Price~Year+Present_Price+Kms_Driven+Owner',data = car).fit()\n",
    "model2.summary()"
   ]
  },
  {
   "cell_type": "markdown",
   "metadata": {},
   "source": [
    "Both the models have high multicollinearity, but if we see that first model is good.in comparison to 2nd."
   ]
  },
  {
   "cell_type": "code",
   "execution_count": null,
   "metadata": {},
   "outputs": [],
   "source": []
  }
 ],
 "metadata": {
  "colab": {
   "collapsed_sections": [],
   "name": "SLR - Take home (Day 1) - Questions [v1.0 - 080420].ipynb",
   "provenance": []
  },
  "kernelspec": {
   "display_name": "Python 3 (ipykernel)",
   "language": "python",
   "name": "python3"
  },
  "language_info": {
   "codemirror_mode": {
    "name": "ipython",
    "version": 3
   },
   "file_extension": ".py",
   "mimetype": "text/x-python",
   "name": "python",
   "nbconvert_exporter": "python",
   "pygments_lexer": "ipython3",
   "version": "3.9.12"
  }
 },
 "nbformat": 4,
 "nbformat_minor": 1
}
